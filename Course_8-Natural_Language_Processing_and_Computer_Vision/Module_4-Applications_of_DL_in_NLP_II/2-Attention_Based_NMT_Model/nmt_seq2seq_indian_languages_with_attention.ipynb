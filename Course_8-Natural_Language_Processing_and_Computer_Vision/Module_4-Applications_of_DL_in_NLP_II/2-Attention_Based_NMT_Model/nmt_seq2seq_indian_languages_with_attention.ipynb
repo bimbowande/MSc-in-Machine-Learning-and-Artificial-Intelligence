{
  "nbformat": 4,
  "nbformat_minor": 5,
  "metadata": {
    "accelerator": "GPU",
    "colab": {
      "provenance": [],
      "collapsed_sections": [
        "ybNzS6FL17yk",
        "biological-diagram",
        "australian-chester",
        "rocky-illustration",
        "SazKWgl7pYWE",
        "Xp61kLQYPkxI",
        "HyxG6E3kPq0r"
      ]
    },
    "kernelspec": {
      "display_name": "Python 3",
      "language": "python",
      "name": "python3"
    },
    "language_info": {
      "codemirror_mode": {
        "name": "ipython",
        "version": 3
      },
      "file_extension": ".py",
      "mimetype": "text/x-python",
      "name": "python",
      "nbconvert_exporter": "python",
      "pygments_lexer": "ipython3",
      "version": "3.7.10"
    },
    "papermill": {
      "default_parameters": {},
      "duration": 9796.542466,
      "end_time": "2021-06-08T01:38:22.140414",
      "environment_variables": {},
      "exception": null,
      "input_path": "__notebook__.ipynb",
      "output_path": "__notebook__.ipynb",
      "parameters": {},
      "start_time": "2021-06-07T22:55:05.597948",
      "version": "2.3.3"
    }
  },
  "cells": [
    {
      "cell_type": "markdown",
      "metadata": {
        "id": "ybNzS6FL17yk"
      },
      "source": [
        "# **Library and Dataset Import**\n",
        "\n",
        "The examples uses tensorflow2.x for NLP Modelling. \n",
        "\n",
        "The indic-nlp-library is used for tokenization.\n",
        "\n",
        "Dataset used is for English Hindi translation, however can be easily adopted for 10 other major Indian language as available [here](http://lotus.kuee.kyoto-u.ac.jp/WAT/indic-multilingual/) or for any other language pair (adopt as per the tensorflow tutorial references used below). "
      ],
      "id": "ybNzS6FL17yk"
    },
    {
      "cell_type": "code",
      "source": [
        "!pip install -q ipython-autotime\n",
        "%load_ext autotime"
      ],
      "metadata": {
        "colab": {
          "base_uri": "https://localhost:8080/"
        },
        "id": "qEjTAO2Q1kHa",
        "outputId": "c48ae557-53ad-44bf-f029-3246b30092d6"
      },
      "id": "qEjTAO2Q1kHa",
      "execution_count": 1,
      "outputs": [
        {
          "output_type": "stream",
          "name": "stdout",
          "text": [
            "\u001b[?25l\r\u001b[K     |▏                               | 10 kB 30.9 MB/s eta 0:00:01\r\u001b[K     |▍                               | 20 kB 29.4 MB/s eta 0:00:01\r\u001b[K     |▋                               | 30 kB 34.5 MB/s eta 0:00:01\r\u001b[K     |▉                               | 40 kB 19.1 MB/s eta 0:00:01\r\u001b[K     |█                               | 51 kB 15.3 MB/s eta 0:00:01\r\u001b[K     |█▎                              | 61 kB 17.5 MB/s eta 0:00:01\r\u001b[K     |█▌                              | 71 kB 17.4 MB/s eta 0:00:01\r\u001b[K     |█▊                              | 81 kB 18.7 MB/s eta 0:00:01\r\u001b[K     |█▉                              | 92 kB 20.5 MB/s eta 0:00:01\r\u001b[K     |██                              | 102 kB 19.3 MB/s eta 0:00:01\r\u001b[K     |██▎                             | 112 kB 19.3 MB/s eta 0:00:01\r\u001b[K     |██▌                             | 122 kB 19.3 MB/s eta 0:00:01\r\u001b[K     |██▊                             | 133 kB 19.3 MB/s eta 0:00:01\r\u001b[K     |███                             | 143 kB 19.3 MB/s eta 0:00:01\r\u001b[K     |███▏                            | 153 kB 19.3 MB/s eta 0:00:01\r\u001b[K     |███▍                            | 163 kB 19.3 MB/s eta 0:00:01\r\u001b[K     |███▌                            | 174 kB 19.3 MB/s eta 0:00:01\r\u001b[K     |███▊                            | 184 kB 19.3 MB/s eta 0:00:01\r\u001b[K     |████                            | 194 kB 19.3 MB/s eta 0:00:01\r\u001b[K     |████▏                           | 204 kB 19.3 MB/s eta 0:00:01\r\u001b[K     |████▍                           | 215 kB 19.3 MB/s eta 0:00:01\r\u001b[K     |████▋                           | 225 kB 19.3 MB/s eta 0:00:01\r\u001b[K     |████▉                           | 235 kB 19.3 MB/s eta 0:00:01\r\u001b[K     |█████                           | 245 kB 19.3 MB/s eta 0:00:01\r\u001b[K     |█████▎                          | 256 kB 19.3 MB/s eta 0:00:01\r\u001b[K     |█████▍                          | 266 kB 19.3 MB/s eta 0:00:01\r\u001b[K     |█████▋                          | 276 kB 19.3 MB/s eta 0:00:01\r\u001b[K     |█████▉                          | 286 kB 19.3 MB/s eta 0:00:01\r\u001b[K     |██████                          | 296 kB 19.3 MB/s eta 0:00:01\r\u001b[K     |██████▎                         | 307 kB 19.3 MB/s eta 0:00:01\r\u001b[K     |██████▌                         | 317 kB 19.3 MB/s eta 0:00:01\r\u001b[K     |██████▊                         | 327 kB 19.3 MB/s eta 0:00:01\r\u001b[K     |███████                         | 337 kB 19.3 MB/s eta 0:00:01\r\u001b[K     |███████                         | 348 kB 19.3 MB/s eta 0:00:01\r\u001b[K     |███████▎                        | 358 kB 19.3 MB/s eta 0:00:01\r\u001b[K     |███████▌                        | 368 kB 19.3 MB/s eta 0:00:01\r\u001b[K     |███████▊                        | 378 kB 19.3 MB/s eta 0:00:01\r\u001b[K     |████████                        | 389 kB 19.3 MB/s eta 0:00:01\r\u001b[K     |████████▏                       | 399 kB 19.3 MB/s eta 0:00:01\r\u001b[K     |████████▍                       | 409 kB 19.3 MB/s eta 0:00:01\r\u001b[K     |████████▋                       | 419 kB 19.3 MB/s eta 0:00:01\r\u001b[K     |████████▉                       | 430 kB 19.3 MB/s eta 0:00:01\r\u001b[K     |█████████                       | 440 kB 19.3 MB/s eta 0:00:01\r\u001b[K     |█████████▏                      | 450 kB 19.3 MB/s eta 0:00:01\r\u001b[K     |█████████▍                      | 460 kB 19.3 MB/s eta 0:00:01\r\u001b[K     |█████████▋                      | 471 kB 19.3 MB/s eta 0:00:01\r\u001b[K     |█████████▉                      | 481 kB 19.3 MB/s eta 0:00:01\r\u001b[K     |██████████                      | 491 kB 19.3 MB/s eta 0:00:01\r\u001b[K     |██████████▎                     | 501 kB 19.3 MB/s eta 0:00:01\r\u001b[K     |██████████▌                     | 512 kB 19.3 MB/s eta 0:00:01\r\u001b[K     |██████████▋                     | 522 kB 19.3 MB/s eta 0:00:01\r\u001b[K     |██████████▉                     | 532 kB 19.3 MB/s eta 0:00:01\r\u001b[K     |███████████                     | 542 kB 19.3 MB/s eta 0:00:01\r\u001b[K     |███████████▎                    | 552 kB 19.3 MB/s eta 0:00:01\r\u001b[K     |███████████▌                    | 563 kB 19.3 MB/s eta 0:00:01\r\u001b[K     |███████████▊                    | 573 kB 19.3 MB/s eta 0:00:01\r\u001b[K     |████████████                    | 583 kB 19.3 MB/s eta 0:00:01\r\u001b[K     |████████████▏                   | 593 kB 19.3 MB/s eta 0:00:01\r\u001b[K     |████████████▍                   | 604 kB 19.3 MB/s eta 0:00:01\r\u001b[K     |████████████▌                   | 614 kB 19.3 MB/s eta 0:00:01\r\u001b[K     |████████████▊                   | 624 kB 19.3 MB/s eta 0:00:01\r\u001b[K     |█████████████                   | 634 kB 19.3 MB/s eta 0:00:01\r\u001b[K     |█████████████▏                  | 645 kB 19.3 MB/s eta 0:00:01\r\u001b[K     |█████████████▍                  | 655 kB 19.3 MB/s eta 0:00:01\r\u001b[K     |█████████████▋                  | 665 kB 19.3 MB/s eta 0:00:01\r\u001b[K     |█████████████▉                  | 675 kB 19.3 MB/s eta 0:00:01\r\u001b[K     |██████████████                  | 686 kB 19.3 MB/s eta 0:00:01\r\u001b[K     |██████████████▏                 | 696 kB 19.3 MB/s eta 0:00:01\r\u001b[K     |██████████████▍                 | 706 kB 19.3 MB/s eta 0:00:01\r\u001b[K     |██████████████▋                 | 716 kB 19.3 MB/s eta 0:00:01\r\u001b[K     |██████████████▉                 | 727 kB 19.3 MB/s eta 0:00:01\r\u001b[K     |███████████████                 | 737 kB 19.3 MB/s eta 0:00:01\r\u001b[K     |███████████████▎                | 747 kB 19.3 MB/s eta 0:00:01\r\u001b[K     |███████████████▌                | 757 kB 19.3 MB/s eta 0:00:01\r\u001b[K     |███████████████▊                | 768 kB 19.3 MB/s eta 0:00:01\r\u001b[K     |████████████████                | 778 kB 19.3 MB/s eta 0:00:01\r\u001b[K     |████████████████                | 788 kB 19.3 MB/s eta 0:00:01\r\u001b[K     |████████████████▎               | 798 kB 19.3 MB/s eta 0:00:01\r\u001b[K     |████████████████▌               | 808 kB 19.3 MB/s eta 0:00:01\r\u001b[K     |████████████████▊               | 819 kB 19.3 MB/s eta 0:00:01\r\u001b[K     |█████████████████               | 829 kB 19.3 MB/s eta 0:00:01\r\u001b[K     |█████████████████▏              | 839 kB 19.3 MB/s eta 0:00:01\r\u001b[K     |█████████████████▍              | 849 kB 19.3 MB/s eta 0:00:01\r\u001b[K     |█████████████████▋              | 860 kB 19.3 MB/s eta 0:00:01\r\u001b[K     |█████████████████▊              | 870 kB 19.3 MB/s eta 0:00:01\r\u001b[K     |██████████████████              | 880 kB 19.3 MB/s eta 0:00:01\r\u001b[K     |██████████████████▏             | 890 kB 19.3 MB/s eta 0:00:01\r\u001b[K     |██████████████████▍             | 901 kB 19.3 MB/s eta 0:00:01\r\u001b[K     |██████████████████▋             | 911 kB 19.3 MB/s eta 0:00:01\r\u001b[K     |██████████████████▉             | 921 kB 19.3 MB/s eta 0:00:01\r\u001b[K     |███████████████████             | 931 kB 19.3 MB/s eta 0:00:01\r\u001b[K     |███████████████████▎            | 942 kB 19.3 MB/s eta 0:00:01\r\u001b[K     |███████████████████▌            | 952 kB 19.3 MB/s eta 0:00:01\r\u001b[K     |███████████████████▋            | 962 kB 19.3 MB/s eta 0:00:01\r\u001b[K     |███████████████████▉            | 972 kB 19.3 MB/s eta 0:00:01\r\u001b[K     |████████████████████            | 983 kB 19.3 MB/s eta 0:00:01\r\u001b[K     |████████████████████▎           | 993 kB 19.3 MB/s eta 0:00:01\r\u001b[K     |████████████████████▌           | 1.0 MB 19.3 MB/s eta 0:00:01\r\u001b[K     |████████████████████▊           | 1.0 MB 19.3 MB/s eta 0:00:01\r\u001b[K     |█████████████████████           | 1.0 MB 19.3 MB/s eta 0:00:01\r\u001b[K     |█████████████████████▏          | 1.0 MB 19.3 MB/s eta 0:00:01\r\u001b[K     |█████████████████████▎          | 1.0 MB 19.3 MB/s eta 0:00:01\r\u001b[K     |█████████████████████▌          | 1.1 MB 19.3 MB/s eta 0:00:01\r\u001b[K     |█████████████████████▊          | 1.1 MB 19.3 MB/s eta 0:00:01\r\u001b[K     |██████████████████████          | 1.1 MB 19.3 MB/s eta 0:00:01\r\u001b[K     |██████████████████████▏         | 1.1 MB 19.3 MB/s eta 0:00:01\r\u001b[K     |██████████████████████▍         | 1.1 MB 19.3 MB/s eta 0:00:01\r\u001b[K     |██████████████████████▋         | 1.1 MB 19.3 MB/s eta 0:00:01\r\u001b[K     |██████████████████████▉         | 1.1 MB 19.3 MB/s eta 0:00:01\r\u001b[K     |███████████████████████         | 1.1 MB 19.3 MB/s eta 0:00:01\r\u001b[K     |███████████████████████▏        | 1.1 MB 19.3 MB/s eta 0:00:01\r\u001b[K     |███████████████████████▍        | 1.1 MB 19.3 MB/s eta 0:00:01\r\u001b[K     |███████████████████████▋        | 1.2 MB 19.3 MB/s eta 0:00:01\r\u001b[K     |███████████████████████▉        | 1.2 MB 19.3 MB/s eta 0:00:01\r\u001b[K     |████████████████████████        | 1.2 MB 19.3 MB/s eta 0:00:01\r\u001b[K     |████████████████████████▎       | 1.2 MB 19.3 MB/s eta 0:00:01\r\u001b[K     |████████████████████████▌       | 1.2 MB 19.3 MB/s eta 0:00:01\r\u001b[K     |████████████████████████▊       | 1.2 MB 19.3 MB/s eta 0:00:01\r\u001b[K     |████████████████████████▉       | 1.2 MB 19.3 MB/s eta 0:00:01\r\u001b[K     |█████████████████████████       | 1.2 MB 19.3 MB/s eta 0:00:01\r\u001b[K     |█████████████████████████▎      | 1.2 MB 19.3 MB/s eta 0:00:01\r\u001b[K     |█████████████████████████▌      | 1.2 MB 19.3 MB/s eta 0:00:01\r\u001b[K     |█████████████████████████▊      | 1.3 MB 19.3 MB/s eta 0:00:01\r\u001b[K     |██████████████████████████      | 1.3 MB 19.3 MB/s eta 0:00:01\r\u001b[K     |██████████████████████████▏     | 1.3 MB 19.3 MB/s eta 0:00:01\r\u001b[K     |██████████████████████████▍     | 1.3 MB 19.3 MB/s eta 0:00:01\r\u001b[K     |██████████████████████████▌     | 1.3 MB 19.3 MB/s eta 0:00:01\r\u001b[K     |██████████████████████████▊     | 1.3 MB 19.3 MB/s eta 0:00:01\r\u001b[K     |███████████████████████████     | 1.3 MB 19.3 MB/s eta 0:00:01\r\u001b[K     |███████████████████████████▏    | 1.3 MB 19.3 MB/s eta 0:00:01\r\u001b[K     |███████████████████████████▍    | 1.3 MB 19.3 MB/s eta 0:00:01\r\u001b[K     |███████████████████████████▋    | 1.4 MB 19.3 MB/s eta 0:00:01\r\u001b[K     |███████████████████████████▉    | 1.4 MB 19.3 MB/s eta 0:00:01\r\u001b[K     |████████████████████████████    | 1.4 MB 19.3 MB/s eta 0:00:01\r\u001b[K     |████████████████████████████▎   | 1.4 MB 19.3 MB/s eta 0:00:01\r\u001b[K     |████████████████████████████▍   | 1.4 MB 19.3 MB/s eta 0:00:01\r\u001b[K     |████████████████████████████▋   | 1.4 MB 19.3 MB/s eta 0:00:01\r\u001b[K     |████████████████████████████▉   | 1.4 MB 19.3 MB/s eta 0:00:01\r\u001b[K     |█████████████████████████████   | 1.4 MB 19.3 MB/s eta 0:00:01\r\u001b[K     |█████████████████████████████▎  | 1.4 MB 19.3 MB/s eta 0:00:01\r\u001b[K     |█████████████████████████████▌  | 1.4 MB 19.3 MB/s eta 0:00:01\r\u001b[K     |█████████████████████████████▊  | 1.5 MB 19.3 MB/s eta 0:00:01\r\u001b[K     |██████████████████████████████  | 1.5 MB 19.3 MB/s eta 0:00:01\r\u001b[K     |██████████████████████████████  | 1.5 MB 19.3 MB/s eta 0:00:01\r\u001b[K     |██████████████████████████████▎ | 1.5 MB 19.3 MB/s eta 0:00:01\r\u001b[K     |██████████████████████████████▌ | 1.5 MB 19.3 MB/s eta 0:00:01\r\u001b[K     |██████████████████████████████▊ | 1.5 MB 19.3 MB/s eta 0:00:01\r\u001b[K     |███████████████████████████████ | 1.5 MB 19.3 MB/s eta 0:00:01\r\u001b[K     |███████████████████████████████▏| 1.5 MB 19.3 MB/s eta 0:00:01\r\u001b[K     |███████████████████████████████▍| 1.5 MB 19.3 MB/s eta 0:00:01\r\u001b[K     |███████████████████████████████▋| 1.5 MB 19.3 MB/s eta 0:00:01\r\u001b[K     |███████████████████████████████▉| 1.6 MB 19.3 MB/s eta 0:00:01\r\u001b[K     |████████████████████████████████| 1.6 MB 19.3 MB/s eta 0:00:01\r\u001b[K     |████████████████████████████████| 1.6 MB 19.3 MB/s \n",
            "\u001b[?25htime: 590 µs (started: 2022-11-04 13:31:26 +00:00)\n"
          ]
        }
      ]
    },
    {
      "cell_type": "code",
      "metadata": {
        "colab": {
          "base_uri": "https://localhost:8080/"
        },
        "id": "liberal-cooperation",
        "outputId": "bfc8af10-b2eb-43a8-9971-fead2f788f32"
      },
      "source": [
        "import tensorflow as tf\n",
        "\n",
        "import matplotlib.pyplot as plt\n",
        "import matplotlib.ticker as ticker\n",
        "from sklearn.model_selection import train_test_split\n",
        "\n",
        "import unicodedata\n",
        "import re\n",
        "import numpy as np\n",
        "import os \n",
        "import io\n",
        "import time\n",
        "!pip3 install -q indic-nlp-library"
      ],
      "id": "liberal-cooperation",
      "execution_count": 2,
      "outputs": [
        {
          "output_type": "stream",
          "name": "stdout",
          "text": [
            "\u001b[K     |████████████████████████████████| 40 kB 2.1 MB/s \n",
            "\u001b[K     |████████████████████████████████| 2.8 MB 46.5 MB/s \n",
            "\u001b[?25htime: 10.1 s (started: 2022-11-04 13:31:26 +00:00)\n"
          ]
        }
      ]
    },
    {
      "cell_type": "markdown",
      "metadata": {
        "id": "designed-budapest"
      },
      "source": [
        "The dataset consists of four files: two train files and two test files. The train file consists of one file with English sentences and another with the corresponding Hindi translations, similarly for the test files. There is a dev file available as well which can be used for validation.\n",
        "\n",
        "The train files contain 84557 translations, out of which we will be using 70,000 for training. The test files contain 1000 translations."
      ],
      "id": "designed-budapest"
    },
    {
      "cell_type": "code",
      "metadata": {
        "colab": {
          "base_uri": "https://localhost:8080/"
        },
        "id": "copyrighted-reliance",
        "outputId": "b3274abb-7973-485e-cacf-af5663ae67d9"
      },
      "source": [
        "!wget \"http://lotus.kuee.kyoto-u.ac.jp/WAT/indic-multilingual/indic_languages_corpus.tar.gz\""
      ],
      "id": "copyrighted-reliance",
      "execution_count": 3,
      "outputs": [
        {
          "output_type": "stream",
          "name": "stdout",
          "text": [
            "--2022-11-04 13:31:36--  http://lotus.kuee.kyoto-u.ac.jp/WAT/indic-multilingual/indic_languages_corpus.tar.gz\n",
            "Resolving lotus.kuee.kyoto-u.ac.jp (lotus.kuee.kyoto-u.ac.jp)... 130.54.208.131\n",
            "Connecting to lotus.kuee.kyoto-u.ac.jp (lotus.kuee.kyoto-u.ac.jp)|130.54.208.131|:80... connected.\n",
            "HTTP request sent, awaiting response... 200 OK\n",
            "Length: 132762852 (127M) [application/x-gzip]\n",
            "Saving to: ‘indic_languages_corpus.tar.gz’\n",
            "\n",
            "indic_languages_cor 100%[===================>] 126.61M  2.11MB/s    in 95s     \n",
            "\n",
            "2022-11-04 13:33:12 (1.34 MB/s) - ‘indic_languages_corpus.tar.gz’ saved [132762852/132762852]\n",
            "\n",
            "time: 1min 35s (started: 2022-11-04 13:31:36 +00:00)\n"
          ]
        }
      ]
    },
    {
      "cell_type": "code",
      "metadata": {
        "colab": {
          "base_uri": "https://localhost:8080/"
        },
        "id": "derived-village",
        "outputId": "221194a8-74b0-4f8d-dc2f-a20079d09355"
      },
      "source": [
        "import tarfile\n",
        "with tarfile.open('indic_languages_corpus.tar.gz', 'r:gz') as tar:\n",
        "    tar.extractall()\n",
        "print(\"done!\")"
      ],
      "id": "derived-village",
      "execution_count": 4,
      "outputs": [
        {
          "output_type": "stream",
          "name": "stdout",
          "text": [
            "done!\n",
            "time: 3.13 s (started: 2022-11-04 13:33:12 +00:00)\n"
          ]
        }
      ]
    },
    {
      "cell_type": "code",
      "metadata": {
        "id": "hidden-variable",
        "colab": {
          "base_uri": "https://localhost:8080/"
        },
        "outputId": "ad050aef-d85e-410a-958a-ea56dd4fc4c3"
      },
      "source": [
        "#We copy the Hindi to English files for working in this example (dev.en, dev.hi, test.en, test.hi and train.en, train.hi)\n",
        "%cp indic_languages_corpus/bilingual/hi-en/* .\n",
        "#Clean up to avoid storing these files in the session\n",
        "%rm -r indic_languages_corpus indic_languages_corpus.tar.gz"
      ],
      "id": "hidden-variable",
      "execution_count": 5,
      "outputs": [
        {
          "output_type": "stream",
          "name": "stdout",
          "text": [
            "time: 241 ms (started: 2022-11-04 13:33:15 +00:00)\n"
          ]
        }
      ]
    },
    {
      "cell_type": "code",
      "metadata": {
        "colab": {
          "base_uri": "https://localhost:8080/"
        },
        "id": "monetary-criminal",
        "outputId": "e046b344-952c-4793-8d77-e3563537765c"
      },
      "source": [
        "# Install Nirmala font which we would need for plotting later in the code\n",
        "!wget \"https://www.wfonts.com/download/data/2016/04/29/nirmala-ui/nirmala-ui.zip\""
      ],
      "id": "monetary-criminal",
      "execution_count": 6,
      "outputs": [
        {
          "output_type": "stream",
          "name": "stdout",
          "text": [
            "--2022-11-04 13:33:15--  https://www.wfonts.com/download/data/2016/04/29/nirmala-ui/nirmala-ui.zip\n",
            "Resolving www.wfonts.com (www.wfonts.com)... 104.225.219.210\n",
            "Connecting to www.wfonts.com (www.wfonts.com)|104.225.219.210|:443... connected.\n",
            "HTTP request sent, awaiting response... 200 OK\n",
            "Length: 686493 (670K) [application/octetstream]\n",
            "Saving to: ‘nirmala-ui.zip’\n",
            "\n",
            "nirmala-ui.zip      100%[===================>] 670.40K  3.85MB/s    in 0.2s    \n",
            "\n",
            "2022-11-04 13:33:15 (3.85 MB/s) - ‘nirmala-ui.zip’ saved [686493/686493]\n",
            "\n",
            "time: 429 ms (started: 2022-11-04 13:33:15 +00:00)\n"
          ]
        }
      ]
    },
    {
      "cell_type": "code",
      "metadata": {
        "colab": {
          "base_uri": "https://localhost:8080/"
        },
        "id": "sensitive-assault",
        "outputId": "fe0dae59-8082-4394-dd1c-607b4577c731"
      },
      "source": [
        "from zipfile import ZipFile\n",
        "with ZipFile('nirmala-ui.zip', 'r') as zipObj:\n",
        "   # Extract all the contents of zip file in current directory\n",
        "   zipObj.extractall()\n",
        "print(\"done!\")"
      ],
      "id": "sensitive-assault",
      "execution_count": 7,
      "outputs": [
        {
          "output_type": "stream",
          "name": "stdout",
          "text": [
            "done!\n",
            "time: 15.8 ms (started: 2022-11-04 13:33:15 +00:00)\n"
          ]
        }
      ]
    },
    {
      "cell_type": "code",
      "metadata": {
        "id": "finished-affiliate",
        "colab": {
          "base_uri": "https://localhost:8080/"
        },
        "outputId": "e7e06883-e096-425d-953f-49090c047e5b"
      },
      "source": [
        "%rm nirmala-ui.* sharefonts.* nirmala.png"
      ],
      "id": "finished-affiliate",
      "execution_count": 8,
      "outputs": [
        {
          "output_type": "stream",
          "name": "stdout",
          "text": [
            "time: 129 ms (started: 2022-11-04 13:33:16 +00:00)\n"
          ]
        }
      ]
    },
    {
      "cell_type": "code",
      "metadata": {
        "colab": {
          "base_uri": "https://localhost:8080/"
        },
        "id": "czech-reserve",
        "outputId": "da11255a-4188-48a0-95a2-bb835ea847a3"
      },
      "source": [
        "# understanding how the training data looks like\n",
        "f = open('train.hi')\n",
        "w1 = f.readlines()\n",
        "print(len(w1))\n",
        "print(w1[0:5])\n",
        "g = open('train.en')\n",
        "w2 = g.readlines()\n",
        "print(len(w2))\n",
        "print(w2[0:5])"
      ],
      "id": "czech-reserve",
      "execution_count": 9,
      "outputs": [
        {
          "output_type": "stream",
          "name": "stdout",
          "text": [
            "84557\n",
            "['और उनके Sigil क्या है?\\n', 'मैं मरना नहीं चाहता.\\n', 'यह मुझे लगता है कि एक ही देश है.\\n', 'फिर ये नन्हें बच्चों की तरह रोएँगे।\\n', 'नहीं, मुझे पावर की जरुरत है !\\n']\n",
            "84557\n",
            "['And what is their Sigil?\\n', 'I do not want to die.\\n', \"It's the same country I think.\\n\", \"Then they'll be crying like babies.\\n\", '- No, I need power up!\\n']\n",
            "time: 66.6 ms (started: 2022-11-04 13:33:16 +00:00)\n"
          ]
        }
      ]
    },
    {
      "cell_type": "markdown",
      "metadata": {
        "id": "defined-translator"
      },
      "source": [
        "# **Data Preperation**\n",
        "\n",
        "Once we have loaded the dataset, we preprocess the data as follows:\n",
        "\n",
        "Add a start and end token to each sentence.\n",
        "\n",
        "Clean the sentences by removing special characters.\n",
        "\n",
        "Create a word index and reverse word index (dictionaries mapping from word → id and id → word).\n",
        "\n",
        "Pad each sentence to a maximum length."
      ],
      "id": "defined-translator"
    },
    {
      "cell_type": "code",
      "metadata": {
        "id": "secret-spouse",
        "colab": {
          "base_uri": "https://localhost:8080/"
        },
        "outputId": "d9e43f09-8615-4998-8ff6-85c6e85c76db"
      },
      "source": [
        "# Restrict the total number of sentences to 70000\n",
        "NUM_SENTENCES = 70000"
      ],
      "id": "secret-spouse",
      "execution_count": 10,
      "outputs": [
        {
          "output_type": "stream",
          "name": "stdout",
          "text": [
            "time: 413 µs (started: 2022-11-04 13:33:16 +00:00)\n"
          ]
        }
      ]
    },
    {
      "cell_type": "code",
      "metadata": {
        "colab": {
          "base_uri": "https://localhost:8080/"
        },
        "id": "hearing-synthetic",
        "outputId": "2ac13c0d-9bc4-45d0-f88b-dd0ed50b0ecd"
      },
      "source": [
        "# strip the input and output of extra unnecessary characters\n",
        "# store all the cleaned input and output sentences into input_sentences[] and output_sentences[]\n",
        "# tokenize the Hindi (target) sentences using the indicNLP libary class and add <sos> (start-of-sentence) and <eos> (end-of-sentence)\n",
        "\n",
        "input_sentences = []\n",
        "output_sentences = []\n",
        "\n",
        "count = 0\n",
        "for line in open(r'train.en', encoding=\"utf-8\"):\n",
        "    count += 1\n",
        "\n",
        "    if count > NUM_SENTENCES:\n",
        "        break\n",
        "\n",
        "    input_sentence = line.rstrip().strip(\"\\n\").strip('-') #we strip the sentence of '\\n' and '-' \n",
        "    input_sentences.append(input_sentence) #store all input sentences in the input sentences list\n",
        "\n",
        "count = 0\n",
        "\n",
        "for line in open(r'train.hi'):\n",
        "    count += 1\n",
        "\n",
        "    if count > NUM_SENTENCES:\n",
        "        break\n",
        "    output_sentence =  line.rstrip().strip(\"\\n\").strip('-') \n",
        "    from indicnlp.tokenize import indic_tokenize  \n",
        "    line = indic_tokenize.trivial_tokenize(output_sentence) #we tokenize the hindi sentences \n",
        "    \n",
        "    output_sentences.append(['<sos>'] + line + ['<eos>']) #append the start and end tags to the tokenised sentences\n",
        "                                                          #each tokenied sentence is stored as a list in output sentences\n",
        "print(type(input_sentences[10]))\n",
        "print(type(output_sentences[10]))"
      ],
      "id": "hearing-synthetic",
      "execution_count": 11,
      "outputs": [
        {
          "output_type": "stream",
          "name": "stdout",
          "text": [
            "<class 'str'>\n",
            "<class 'list'>\n",
            "time: 1.18 s (started: 2022-11-04 13:33:16 +00:00)\n"
          ]
        }
      ]
    },
    {
      "cell_type": "code",
      "metadata": {
        "colab": {
          "base_uri": "https://localhost:8080/"
        },
        "id": "determined-style",
        "outputId": "fba03d5b-fa1b-49f7-f8bd-dacc948fe391"
      },
      "source": [
        "print(\"num samples input:\", len(input_sentences))\n",
        "print(\"num samples output:\", len(output_sentences))"
      ],
      "id": "determined-style",
      "execution_count": 12,
      "outputs": [
        {
          "output_type": "stream",
          "name": "stdout",
          "text": [
            "num samples input: 70000\n",
            "num samples output: 70000\n",
            "time: 702 µs (started: 2022-11-04 13:33:17 +00:00)\n"
          ]
        }
      ]
    },
    {
      "cell_type": "code",
      "metadata": {
        "colab": {
          "base_uri": "https://localhost:8080/"
        },
        "id": "appropriate-frame",
        "outputId": "0f2f4136-5146-4f76-8a73-c6300b7f8919"
      },
      "source": [
        "print(input_sentences[-1])\n",
        "print(output_sentences[-1])"
      ],
      "id": "appropriate-frame",
      "execution_count": 13,
      "outputs": [
        {
          "output_type": "stream",
          "name": "stdout",
          "text": [
            "Her face.\n",
            "['<sos>', 'उसका', 'चेहरा', '.', '<eos>']\n",
            "time: 1.19 ms (started: 2022-11-04 13:33:17 +00:00)\n"
          ]
        }
      ]
    },
    {
      "cell_type": "code",
      "metadata": {
        "id": "collect-layout",
        "colab": {
          "base_uri": "https://localhost:8080/"
        },
        "outputId": "9dc1afa3-e43f-48f8-e073-3ffab28a7106"
      },
      "source": [
        "# Converts the unicode file to ascii\n",
        "# Remove accents etc.\n",
        "def unicode_to_ascii(s):\n",
        "  return ''.join(c for c in unicodedata.normalize('NFD', s)\n",
        "      if unicodedata.category(c) != 'Mn')\n",
        "\n",
        "\n",
        "def preprocess_sentence(w):\n",
        "  w = unicode_to_ascii(w.lower().strip())\n",
        "\n",
        "  # creating a space between a word and the punctuation following it\n",
        "  # eg: \"he is a boy.\" => \"he is a boy .\"\n",
        "  w = re.sub(r\"([?.!,¿])\", r\" \\1 \", w)\n",
        "  w = re.sub(r'[\" \"]+', \" \", w)\n",
        "\n",
        "  # replacing everything with space except (a-z, A-Z, \".\", \"?\", \"!\", \",\")\n",
        "  w = re.sub(r\"[^a-zA-Z?.!,¿]+\", \" \", w)\n",
        "\n",
        "  w = w.strip()\n",
        "\n",
        "  # adding a start and an end token to the sentence\n",
        "  # so that the model know when to start and stop predicting.\n",
        "  w = '<sos> ' + w + ' <eos>'\n",
        "  return w"
      ],
      "id": "collect-layout",
      "execution_count": 14,
      "outputs": [
        {
          "output_type": "stream",
          "name": "stdout",
          "text": [
            "time: 1.4 ms (started: 2022-11-04 13:33:17 +00:00)\n"
          ]
        }
      ]
    },
    {
      "cell_type": "code",
      "metadata": {
        "colab": {
          "base_uri": "https://localhost:8080/"
        },
        "id": "molecular-lingerie",
        "outputId": "e619af19-7255-4602-d6fc-3fc4dee78c0f"
      },
      "source": [
        "for i in range(len(input_sentences)):\n",
        "   input_sentences[i] = preprocess_sentence(input_sentences[i])\n",
        "\n",
        "print(input_sentences[8])\n",
        "print(output_sentences[8])"
      ],
      "id": "molecular-lingerie",
      "execution_count": 15,
      "outputs": [
        {
          "output_type": "stream",
          "name": "stdout",
          "text": [
            "<sos> i told her we rest on sundays . <eos>\n",
            "['<sos>', 'मैं', 'रविवार', 'को', 'उसे', 'हम', 'बाकी', 'बताया', '.', '<eos>']\n",
            "time: 1.24 s (started: 2022-11-04 13:33:17 +00:00)\n"
          ]
        }
      ]
    },
    {
      "cell_type": "code",
      "metadata": {
        "id": "legal-guitar",
        "colab": {
          "base_uri": "https://localhost:8080/"
        },
        "outputId": "0fd3952e-e78a-4956-91bf-3d21f16a8a7b"
      },
      "source": [
        "# function to tokenize, fit the words into numeric sequences and pad them with zeroes up to the size of the largest sentence of that vocabulary\n",
        "# takes as input the input / output vocabulary and the padding type ('pre' / 'post'-- default: post)\n",
        "\n",
        "# inp_lang and targ_lang is of type tokenizer.fit_on_texts; \n",
        "# fit_on_texts of Tokenizer class updates internal vocabulary based on a list of texts. \n",
        "# This method creates the vocabulary index based on word frequency. \n",
        "# Lower integer means more frequent word (often the first few are stop words because they appear a lot).\n",
        "\n",
        "def tokenize(lang, pad): \n",
        "  lang_tokenizer = tf.keras.preprocessing.text.Tokenizer(\n",
        "      filters='')\n",
        "\n",
        "  lang_tokenizer.fit_on_texts(lang)\n",
        "  \n",
        "  tensor = lang_tokenizer.texts_to_sequences(lang)\n",
        "  \n",
        "  tensor = tf.keras.preprocessing.sequence.pad_sequences(tensor,\n",
        "                                                         padding='post')\n",
        "  return tensor, lang_tokenizer"
      ],
      "id": "legal-guitar",
      "execution_count": 16,
      "outputs": [
        {
          "output_type": "stream",
          "name": "stdout",
          "text": [
            "time: 1.6 ms (started: 2022-11-04 13:33:18 +00:00)\n"
          ]
        }
      ]
    },
    {
      "cell_type": "code",
      "metadata": {
        "id": "unsigned-stevens",
        "colab": {
          "base_uri": "https://localhost:8080/"
        },
        "outputId": "6ddbfbc3-70cd-4ff7-e35b-8dd0d565602d"
      },
      "source": [
        "# function to call the tokenize function to perform tokenizing and padding\n",
        "\n",
        "def load_dataset(inp_lang, targ_lang):\n",
        "  # creating cleaned input, output pairs\n",
        "  input_tensor, inp_lang_tokenizer = tokenize(inp_lang, 'post')\n",
        "  target_tensor, targ_lang_tokenizer = tokenize(targ_lang, 'post')\n",
        "\n",
        "  return input_tensor, target_tensor, inp_lang_tokenizer, targ_lang_tokenizer"
      ],
      "id": "unsigned-stevens",
      "execution_count": 17,
      "outputs": [
        {
          "output_type": "stream",
          "name": "stdout",
          "text": [
            "time: 1.49 ms (started: 2022-11-04 13:33:18 +00:00)\n"
          ]
        }
      ]
    },
    {
      "cell_type": "code",
      "metadata": {
        "colab": {
          "base_uri": "https://localhost:8080/"
        },
        "id": "coordinate-delhi",
        "outputId": "bb292c1f-be4f-4536-af05-be95b3778177"
      },
      "source": [
        "input_tensor, target_tensor, inp_lang, targ_lang = load_dataset(input_sentences, output_sentences)\n",
        "\n",
        "# Calculate max_length of the target tensors\n",
        "# For our project, the max_length_targ and max_length_inp are 69 and 72 respectively.\n",
        "\n",
        "max_length_targ, max_length_inp = target_tensor.shape[1], input_tensor.shape[1]\n",
        "print(max_length_targ)\n",
        "print(max_length_inp)"
      ],
      "id": "coordinate-delhi",
      "execution_count": 18,
      "outputs": [
        {
          "output_type": "stream",
          "name": "stdout",
          "text": [
            "69\n",
            "72\n",
            "time: 4.19 s (started: 2022-11-04 13:33:18 +00:00)\n"
          ]
        }
      ]
    },
    {
      "cell_type": "code",
      "metadata": {
        "colab": {
          "base_uri": "https://localhost:8080/"
        },
        "id": "commercial-howard",
        "outputId": "a6764408-b7ce-4a4c-bb3f-83bde4da276e"
      },
      "source": [
        "# checking if the input sequences have been obtained and padded properly\n",
        "print(target_tensor[9])\n",
        "print(input_tensor[9])"
      ],
      "id": "commercial-howard",
      "execution_count": 19,
      "outputs": [
        {
          "output_type": "stream",
          "name": "stdout",
          "text": [
            "[  1  47 203  18 203  26  39 553  79  29   5 270   8   2   0   0   0   0\n",
            "   0   0   0   0   0   0   0   0   0   0   0   0   0   0   0   0   0   0\n",
            "   0   0   0   0   0   0   0   0   0   0   0   0   0   0   0   0   0   0\n",
            "   0   0   0   0   0   0   0   0   0   0   0   0   0   0   0]\n",
            "[   1    5  106   62   63  462 6235   21    4   59    8    2    0    0\n",
            "    0    0    0    0    0    0    0    0    0    0    0    0    0    0\n",
            "    0    0    0    0    0    0    0    0    0    0    0    0    0    0\n",
            "    0    0    0    0    0    0    0    0    0    0    0    0    0    0\n",
            "    0    0    0    0    0    0    0    0    0    0    0    0    0    0\n",
            "    0    0]\n",
            "time: 5.88 ms (started: 2022-11-04 13:33:22 +00:00)\n"
          ]
        }
      ]
    },
    {
      "cell_type": "code",
      "metadata": {
        "colab": {
          "base_uri": "https://localhost:8080/"
        },
        "id": "enormous-establishment",
        "outputId": "a6cff210-e931-43d7-9bf0-3bb715b17768"
      },
      "source": [
        "# Creating training and validation sets using an 80-20 split\n",
        "input_tensor_train, input_tensor_val, target_tensor_train, target_tensor_val = train_test_split(input_tensor, target_tensor, test_size=0.2, random_state=7)\n",
        "\n",
        "# Show length\n",
        "print(len(input_tensor_train), len(target_tensor_train), len(input_tensor_val), len(target_tensor_val))"
      ],
      "id": "enormous-establishment",
      "execution_count": 20,
      "outputs": [
        {
          "output_type": "stream",
          "name": "stdout",
          "text": [
            "56000 56000 14000 14000\n",
            "time: 57.2 ms (started: 2022-11-04 13:33:23 +00:00)\n"
          ]
        }
      ]
    },
    {
      "cell_type": "code",
      "metadata": {
        "colab": {
          "base_uri": "https://localhost:8080/"
        },
        "id": "ordinary-honor",
        "outputId": "8a6d1964-3f3d-46f7-ba77-b337d8752c94"
      },
      "source": [
        "# checking if the input sequences have been obtained and padded properly\n",
        "print(input_tensor_val[9])\n",
        "print(target_tensor_val[9])"
      ],
      "id": "ordinary-honor",
      "execution_count": 21,
      "outputs": [
        {
          "output_type": "stream",
          "name": "stdout",
          "text": [
            "[    1    60   451    14    60 10406    99   207   135     8     2     0\n",
            "     0     0     0     0     0     0     0     0     0     0     0     0\n",
            "     0     0     0     0     0     0     0     0     0     0     0     0\n",
            "     0     0     0     0     0     0     0     0     0     0     0     0\n",
            "     0     0     0     0     0     0     0     0     0     0     0     0\n",
            "     0     0     0     0     0     0     0     0     0     0     0     0]\n",
            "[   1   30  161  147  484    4    5   19 4339   31  747  692    4    8\n",
            "    2    0    0    0    0    0    0    0    0    0    0    0    0    0\n",
            "    0    0    0    0    0    0    0    0    0    0    0    0    0    0\n",
            "    0    0    0    0    0    0    0    0    0    0    0    0    0    0\n",
            "    0    0    0    0    0    0    0    0    0    0    0    0    0]\n",
            "time: 1.67 ms (started: 2022-11-04 13:33:23 +00:00)\n"
          ]
        }
      ]
    },
    {
      "cell_type": "code",
      "metadata": {
        "id": "threatened-bottom",
        "colab": {
          "base_uri": "https://localhost:8080/"
        },
        "outputId": "f46450c4-24e2-4d39-e66c-1c2af8ca2e3a"
      },
      "source": [
        "# a function to test if the word to index / index to word mappings have been obtained correctly. \n",
        "# representative output for two sample english and hindi sentences given in the code block below\n",
        "\n",
        "def convert(lang, tensor):\n",
        "  for t in tensor:\n",
        "    if t!=0:\n",
        "      print (\"%d ----> %s\" % (t, lang.index_word[t]))\n",
        "      print (\"%s ----> %d\" % (lang.index_word[t], lang.word_index[lang.index_word[t]]))"
      ],
      "id": "threatened-bottom",
      "execution_count": 22,
      "outputs": [
        {
          "output_type": "stream",
          "name": "stdout",
          "text": [
            "time: 1.46 ms (started: 2022-11-04 13:33:23 +00:00)\n"
          ]
        }
      ]
    },
    {
      "cell_type": "code",
      "metadata": {
        "colab": {
          "base_uri": "https://localhost:8080/"
        },
        "id": "satisfied-parks",
        "outputId": "f59eaf53-80f6-4a52-d900-70656b530717"
      },
      "source": [
        "print (\"Input Language; index to word mapping\")\n",
        "convert(inp_lang, input_tensor_train[0])\n",
        "print ()\n",
        "print (\"Target Language; index to word mapping\")\n",
        "convert(targ_lang, target_tensor_train[0])"
      ],
      "id": "satisfied-parks",
      "execution_count": 23,
      "outputs": [
        {
          "output_type": "stream",
          "name": "stdout",
          "text": [
            "Input Language; index to word mapping\n",
            "1 ----> <sos>\n",
            "<sos> ----> 1\n",
            "74 ----> did\n",
            "did ----> 74\n",
            "5 ----> you\n",
            "you ----> 5\n",
            "2270 ----> threaten\n",
            "threaten ----> 2270\n",
            "21 ----> me\n",
            "me ----> 21\n",
            "8 ----> ?\n",
            "? ----> 8\n",
            "2 ----> <eos>\n",
            "<eos> ----> 2\n",
            "\n",
            "Target Language; index to word mapping\n",
            "1 ----> <sos>\n",
            "<sos> ----> 1\n",
            "15 ----> आप\n",
            "आप ----> 15\n",
            "26 ----> मुझे\n",
            "मुझे ----> 26\n",
            "1426 ----> धमकी\n",
            "धमकी ----> 1426\n",
            "45 ----> किया\n",
            "किया ----> 45\n",
            "29 ----> था\n",
            "था ----> 29\n",
            "8 ----> ?\n",
            "? ----> 8\n",
            "2 ----> <eos>\n",
            "<eos> ----> 2\n",
            "time: 10.2 ms (started: 2022-11-04 13:33:23 +00:00)\n"
          ]
        }
      ]
    },
    {
      "cell_type": "code",
      "metadata": {
        "colab": {
          "base_uri": "https://localhost:8080/"
        },
        "id": "bizarre-ranch",
        "outputId": "e7b363b8-e255-4028-8934-99db0e384302"
      },
      "source": [
        "# BUFFER_SIZE stores the number of training points\n",
        "BUFFER_SIZE = len(input_tensor_train)\n",
        "\n",
        "# BATCH_SIZE is set to 64. Training and gradient descent happens in batches of 64\n",
        "BATCH_SIZE = 64\n",
        "\n",
        "# the number of batches in one epoch (also, the number of steps during training, when we go batch by batch)\n",
        "steps_per_epoch = BUFFER_SIZE//BATCH_SIZE\n",
        "\n",
        "# the length of the embedded vector\n",
        "embedding_dim = 256\n",
        "\n",
        "# no of GRUs\n",
        "units = 1024 \n",
        "\n",
        "# getting the size of the input and output vocabularies.\n",
        "vocab_inp_size = len(inp_lang.word_index)+1 \n",
        "vocab_tar_size = len(targ_lang.word_index)+1\n",
        "\n",
        "# now, we shuffle the dataset and split it into batches of 64\n",
        "dataset = tf.data.Dataset.from_tensor_slices((input_tensor_train, target_tensor_train)).shuffle(BUFFER_SIZE)\n",
        "dataset = dataset.batch(BATCH_SIZE, drop_remainder=True) # the remainder after splitting by 64 are dropped\n",
        "\n",
        "print(BUFFER_SIZE)\n",
        "print(steps_per_epoch)"
      ],
      "id": "bizarre-ranch",
      "execution_count": 24,
      "outputs": [
        {
          "output_type": "stream",
          "name": "stdout",
          "text": [
            "56000\n",
            "875\n",
            "time: 3.98 s (started: 2022-11-04 13:33:23 +00:00)\n"
          ]
        }
      ]
    },
    {
      "cell_type": "code",
      "metadata": {
        "colab": {
          "base_uri": "https://localhost:8080/"
        },
        "id": "clear-admission",
        "outputId": "168c9ecb-4f0e-4de7-de8c-48fbe22af33b"
      },
      "source": [
        "# to understand the shape of an input batch\n",
        "example_input_batch, example_target_batch = next(iter(dataset))\n",
        "example_input_batch.shape, example_target_batch.shape"
      ],
      "id": "clear-admission",
      "execution_count": 25,
      "outputs": [
        {
          "output_type": "execute_result",
          "data": {
            "text/plain": [
              "(TensorShape([64, 72]), TensorShape([64, 69]))"
            ]
          },
          "metadata": {},
          "execution_count": 25
        },
        {
          "output_type": "stream",
          "name": "stdout",
          "text": [
            "time: 403 ms (started: 2022-11-04 13:33:27 +00:00)\n"
          ]
        }
      ]
    },
    {
      "cell_type": "markdown",
      "metadata": {
        "id": "biological-diagram"
      },
      "source": [
        "# **Encoder-Decoder model with attention**\n",
        "\n",
        "The encoder model consists of an embedding layer, a GRU layer with 1024 units.\n",
        "\n",
        "The decoder model consists of an attention layer, a embedding layer, a GRU layer and a dense layer.\n",
        "\n",
        "The attention model consists of three dense layers (BahdanauAttention Model) .\n",
        "\n",
        "\n",
        "---\n",
        "![picture](https://drive.google.com/uc?id=1AnbdmNzOi9WyEZ8RiMWL3MsndVliggs7)\n",
        "\n",
        "\n",
        "\n"
      ],
      "id": "biological-diagram"
    },
    {
      "cell_type": "code",
      "metadata": {
        "id": "given-freeware",
        "colab": {
          "base_uri": "https://localhost:8080/"
        },
        "outputId": "735f88d9-565b-4c15-8cfb-96c4393574ed"
      },
      "source": [
        "class Encoder(tf.keras.Model):\n",
        "  def __init__(self, vocab_size, embedding_dim, enc_units, batch_sz):\n",
        "    super(Encoder, self).__init__()\n",
        "    self.batch_sz = batch_sz # set batch size\n",
        "    self.enc_units = enc_units # set the number of GRU units\n",
        "    self.embedding = tf.keras.layers.Embedding(vocab_size, embedding_dim) # set the embedding layer using the input's vocabulary size and the embedding dimension (which is set to 256)\n",
        "    self.gru = tf.keras.layers.GRU(self.enc_units,\n",
        "                                   return_sequences=True,\n",
        "                                   return_state=True,\n",
        "                                   recurrent_initializer='glorot_uniform') # define the GRU layer\n",
        "\n",
        "  def call(self, x, hidden): # this function is invoked when the function encoder is called with an input and an initialised hidden layer\n",
        "    x = self.embedding(x)\n",
        "    output, state = self.gru(x, initial_state = hidden) # pass input x into the GRU layer\n",
        "    return output, state # function returns the encoder output and the hidden state\n",
        "\n",
        "\n",
        "  def initialize_hidden_state(self): #intialise hidden layer to all zeroes (for determining the shape)\n",
        "    return tf.zeros((self.batch_sz, self.enc_units))"
      ],
      "id": "given-freeware",
      "execution_count": 26,
      "outputs": [
        {
          "output_type": "stream",
          "name": "stdout",
          "text": [
            "time: 2.57 ms (started: 2022-11-04 13:33:27 +00:00)\n"
          ]
        }
      ]
    },
    {
      "cell_type": "code",
      "metadata": {
        "colab": {
          "base_uri": "https://localhost:8080/"
        },
        "id": "convertible-military",
        "outputId": "6cd9c29d-51bf-45f2-d670-bb74034f63cb"
      },
      "source": [
        "encoder = Encoder(vocab_inp_size, embedding_dim, units, BATCH_SIZE) # create an Encoder class object\n",
        "\n",
        "# sample input to get a sense of the shapes.\n",
        "sample_hidden = encoder.initialize_hidden_state()\n",
        "sample_output, sample_hidden = encoder(example_input_batch, sample_hidden)\n",
        "print ('Encoder output shape: (batch size, sequence length, units) {}'.format(sample_output.shape))\n",
        "print ('Encoder Hidden state shape: (batch size, units) {}'.format(sample_hidden.shape))"
      ],
      "id": "convertible-military",
      "execution_count": 27,
      "outputs": [
        {
          "output_type": "stream",
          "name": "stdout",
          "text": [
            "Encoder output shape: (batch size, sequence length, units) (64, 72, 1024)\n",
            "Encoder Hidden state shape: (batch size, units) (64, 1024)\n",
            "time: 3.63 s (started: 2022-11-04 13:33:27 +00:00)\n"
          ]
        }
      ]
    },
    {
      "cell_type": "markdown",
      "metadata": {
        "id": "FieWc_lcTGoB"
      },
      "source": [
        "The Bahdanau Attention layer takes 2 inputs:\n",
        "\n",
        "* Decoder's hidden state: represented by **Query**\n",
        "* Encoder's Output: represented by **Value**"
      ],
      "id": "FieWc_lcTGoB"
    },
    {
      "cell_type": "code",
      "metadata": {
        "id": "mexican-nitrogen",
        "colab": {
          "base_uri": "https://localhost:8080/"
        },
        "outputId": "99042f32-500e-4021-e937-7025622b7e53"
      },
      "source": [
        "# a class defined for the attention layer\n",
        "# returns attention weights and context vector.\n",
        "\n",
        "class BahdanauAttention(tf.keras.layers.Layer):\n",
        "  def __init__(self, units):\n",
        "    super(BahdanauAttention, self).__init__()\n",
        "    self.W1 = tf.keras.layers.Dense(units) # fully-connected dense layer-1\n",
        "    self.W2 = tf.keras.layers.Dense(units) # fully-connected dense layer-2\n",
        "    self.V = tf.keras.layers.Dense(1) # fully-connected dense layer-3\n",
        "\n",
        "  def call(self, query, values):\n",
        "    # query hidden state shape == (batch_size, hidden size)\n",
        "    # query_with_time_axis shape == (batch_size, 1, hidden size)\n",
        "    # values shape == (batch_size, max_len, hidden size)\n",
        "    # we are doing this to broadcast addition along the time axis to calculate the score\n",
        "    query_with_time_axis = tf.expand_dims(query, 1)\n",
        "\n",
        "    # score shape == (batch_size, max_length, 1)\n",
        "    # we get 1 at the last axis because we are applying score to self.V\n",
        "    # the shape of the tensor before applying self.V is (batch_size, max_length, units)\n",
        "    score = self.V(tf.nn.tanh(\n",
        "        self.W1(query_with_time_axis) + self.W2(values)))\n",
        "\n",
        "    # attention_weights shape == (batch_size, max_length, 1)\n",
        "    attention_weights = tf.nn.softmax(score, axis=1)\n",
        "\n",
        "    # context_vector shape after sum == (batch_size, hidden_size)\n",
        "    context_vector = attention_weights * values\n",
        "    context_vector = tf.reduce_sum(context_vector, axis=1)\n",
        "\n",
        "    return context_vector, attention_weights"
      ],
      "id": "mexican-nitrogen",
      "execution_count": 28,
      "outputs": [
        {
          "output_type": "stream",
          "name": "stdout",
          "text": [
            "time: 2.77 ms (started: 2022-11-04 13:33:31 +00:00)\n"
          ]
        }
      ]
    },
    {
      "cell_type": "code",
      "metadata": {
        "colab": {
          "base_uri": "https://localhost:8080/"
        },
        "id": "caroline-marine",
        "outputId": "d10528cf-540c-4b60-b864-bc6556d3ac69"
      },
      "source": [
        "attention_layer = BahdanauAttention(20) # create an attention layer object\n",
        "attention_result, attention_weights = attention_layer(sample_hidden, sample_output) # pass sample encoder output and hidden layer to get a sense of the shape of the output of the attention layer.\n",
        "\n",
        "print(\"Attention result shape (context vector): (batch size, units) {}\".format(attention_result.shape))\n",
        "print(\"Attention weights shape: (batch_size, sequence_length, 1) {}\".format(attention_weights.shape))"
      ],
      "id": "caroline-marine",
      "execution_count": 29,
      "outputs": [
        {
          "output_type": "stream",
          "name": "stdout",
          "text": [
            "Attention result shape (context vector): (batch size, units) (64, 1024)\n",
            "Attention weights shape: (batch_size, sequence_length, 1) (64, 72, 1)\n",
            "time: 2.57 s (started: 2022-11-04 13:33:31 +00:00)\n"
          ]
        }
      ]
    },
    {
      "cell_type": "code",
      "metadata": {
        "id": "intimate-stick",
        "colab": {
          "base_uri": "https://localhost:8080/"
        },
        "outputId": "95d00685-9244-4e47-a422-52174a6898cb"
      },
      "source": [
        "class Decoder(tf.keras.Model):\n",
        "  def __init__(self, vocab_size, embedding_dim, dec_units, batch_sz):\n",
        "    super(Decoder, self).__init__()\n",
        "    self.batch_sz = batch_sz # batch_size which is defined as 64\n",
        "    self.dec_units = dec_units # the number of decoder GRU units\n",
        "    self.embedding = tf.keras.layers.Embedding(vocab_size, embedding_dim) # defining an embedding layer for the target language output. \n",
        "    self.gru = tf.keras.layers.GRU(self.dec_units,\n",
        "                                   return_sequences=True,\n",
        "                                   return_state=True,\n",
        "                                   recurrent_initializer='glorot_uniform') # GRU layer\n",
        "    self.fc = tf.keras.layers.Dense(vocab_size)\n",
        "\n",
        "    # used for attention\n",
        "    self.attention = BahdanauAttention(self.dec_units)\n",
        "\n",
        "  def call(self, x, hidden, enc_output):\n",
        "    # enc_output shape == (batch_size, max_length, hidden_size)\n",
        "    context_vector, attention_weights = self.attention(hidden, enc_output) # getting the context vector and the attention weights from the attention layer\n",
        "\n",
        "    # x shape after passing through embedding == (batch_size, 1, embedding_dim)\n",
        "    x = self.embedding(x) # creating an embedding layer for the target output\n",
        "\n",
        "    # x shape after concatenation == (batch_size, 1, embedding_dim + hidden_size)\n",
        "    x = tf.concat([tf.expand_dims(context_vector, 1), x], axis=-1)\n",
        "\n",
        "    # passing the concatenated vector to the GRU\n",
        "    output, state = self.gru(x)\n",
        " \n",
        "    # output shape == (batch_size * 1, hidden_size)\n",
        "    output = tf.reshape(output, (-1, output.shape[2]))\n",
        "    \n",
        "\n",
        "    # output shape == (batch_size, vocab)\n",
        "    x = self.fc(output) # pass the output through the dense layer\n",
        "\n",
        "    return x, state, attention_weights # return decoder output, decoder state and attention weights"
      ],
      "id": "intimate-stick",
      "execution_count": 30,
      "outputs": [
        {
          "output_type": "stream",
          "name": "stdout",
          "text": [
            "time: 3.69 ms (started: 2022-11-04 13:33:33 +00:00)\n"
          ]
        }
      ]
    },
    {
      "cell_type": "code",
      "metadata": {
        "colab": {
          "base_uri": "https://localhost:8080/"
        },
        "id": "minute-circuit",
        "outputId": "16f2d489-bf64-4423-a879-f45d4cf4144c"
      },
      "source": [
        "decoder = Decoder(vocab_tar_size, embedding_dim, units, BATCH_SIZE)\n",
        "\n",
        "sample_decoder_output, _, _ = decoder(tf.random.uniform((BATCH_SIZE, 1)),\n",
        "                                      sample_hidden, sample_output)\n",
        "\n",
        "print ('Decoder output shape: (batch_size, vocab size) {}'.format(sample_decoder_output.shape))"
      ],
      "id": "minute-circuit",
      "execution_count": 31,
      "outputs": [
        {
          "output_type": "stream",
          "name": "stdout",
          "text": [
            "Decoder output shape: (batch_size, vocab size) (64, 22224)\n",
            "time: 56.5 ms (started: 2022-11-04 13:33:33 +00:00)\n"
          ]
        }
      ]
    },
    {
      "cell_type": "markdown",
      "metadata": {
        "id": "australian-chester"
      },
      "source": [
        "# **Training the model**\n",
        "\n",
        "The model is trained on a GPU machine with fixed number of epochs. \n",
        "\n",
        "A custom training loop (instead of Model.Fit etc.) is used for which further reference is available from Tensorflow [here](https://www.tensorflow.org/guide/keras/writing_a_training_loop_from_scratch)\n",
        "\n",
        "The model can be extended with the use of the validation data for early stopping and further fine tuning. \n",
        "\n",
        "Checkpoints are stored for easy retrival of the model and resue without training"
      ],
      "id": "australian-chester"
    },
    {
      "cell_type": "code",
      "metadata": {
        "id": "modified-assignment",
        "colab": {
          "base_uri": "https://localhost:8080/"
        },
        "outputId": "6c08f7cf-12b9-4f3a-92f8-7c47a7edd85a"
      },
      "source": [
        "optimizer = tf.keras.optimizers.Adam()\n",
        "loss_object = tf.keras.losses.SparseCategoricalCrossentropy(\n",
        "    from_logits=True, reduction='none') #Loss function is categorical crossentropy\n",
        "\n",
        "def loss_function(real, pred):\n",
        "  mask = tf.math.logical_not(tf.math.equal(real, 0))\n",
        "  loss_ = loss_object(real, pred)\n",
        "\n",
        "  mask = tf.cast(mask, dtype=loss_.dtype)\n",
        "  loss_ *= mask\n",
        "\n",
        "  return tf.reduce_mean(loss_)"
      ],
      "id": "modified-assignment",
      "execution_count": 32,
      "outputs": [
        {
          "output_type": "stream",
          "name": "stdout",
          "text": [
            "time: 1.91 ms (started: 2022-11-04 13:33:33 +00:00)\n"
          ]
        }
      ]
    },
    {
      "cell_type": "code",
      "metadata": {
        "id": "formal-compact",
        "colab": {
          "base_uri": "https://localhost:8080/"
        },
        "outputId": "00d0fd94-b03a-4809-a677-2a8a041be90b"
      },
      "source": [
        "checkpoint_dir = './tutorial_checkpoint'\n",
        "checkpoint_prefix = os.path.join(checkpoint_dir, \"ckpt\")\n",
        "checkpoint = tf.train.Checkpoint(optimizer=optimizer,\n",
        "                                 encoder=encoder,\n",
        "                                 decoder=decoder)"
      ],
      "id": "formal-compact",
      "execution_count": 33,
      "outputs": [
        {
          "output_type": "stream",
          "name": "stdout",
          "text": [
            "time: 1.29 ms (started: 2022-11-04 13:33:33 +00:00)\n"
          ]
        }
      ]
    },
    {
      "cell_type": "code",
      "metadata": {
        "id": "exterior-burton",
        "colab": {
          "base_uri": "https://localhost:8080/"
        },
        "outputId": "a4757384-0746-4bf1-ea78-e322dea5178d"
      },
      "source": [
        "@tf.function\n",
        "def train_step(inp, targ, enc_hidden):\n",
        "  loss = 0\n",
        "\n",
        "  with tf.GradientTape() as tape:\n",
        "    enc_output, enc_hidden = encoder(inp, enc_hidden)\n",
        "\n",
        "    dec_hidden = enc_hidden\n",
        "\n",
        "    dec_input = tf.expand_dims([targ_lang.word_index['<sos>']] * BATCH_SIZE, 1)\n",
        "\n",
        "    # Teacher forcing - feeding the target as the next input\n",
        "    for t in range(1, targ.shape[1]):\n",
        "      # passing enc_output to the decoder\n",
        "      predictions, dec_hidden, _ = decoder(dec_input, dec_hidden, enc_output)\n",
        "\n",
        "      loss += loss_function(targ[:, t], predictions)\n",
        "\n",
        "      # using teacher forcing\n",
        "      dec_input = tf.expand_dims(targ[:, t], 1)\n",
        "\n",
        "  batch_loss = (loss / int(targ.shape[1]))\n",
        "\n",
        "  variables = encoder.trainable_variables + decoder.trainable_variables\n",
        "\n",
        "  gradients = tape.gradient(loss, variables) \n",
        "\n",
        "  optimizer.apply_gradients(zip(gradients, variables)) # doing gradient descent\n",
        "\n",
        "  return batch_loss"
      ],
      "id": "exterior-burton",
      "execution_count": 34,
      "outputs": [
        {
          "output_type": "stream",
          "name": "stdout",
          "text": [
            "time: 3.84 ms (started: 2022-11-04 13:33:33 +00:00)\n"
          ]
        }
      ]
    },
    {
      "cell_type": "code",
      "metadata": {
        "colab": {
          "base_uri": "https://localhost:8080/"
        },
        "id": "protected-tissue",
        "outputId": "3e3e666f-61c6-4d75-edb3-9e5e61dbfa86"
      },
      "source": [
        "train = True\n",
        "EPOCHS = 15\n",
        "if train :\n",
        "  for epoch in range(EPOCHS):\n",
        "    start = time.time()\n",
        "\n",
        "    enc_hidden = encoder.initialize_hidden_state()\n",
        "    total_loss = 0\n",
        "\n",
        "    for (batch, (inp, targ)) in enumerate(dataset.take(steps_per_epoch)):\n",
        "      batch_loss = train_step(inp, targ, enc_hidden)\n",
        "      total_loss += batch_loss\n",
        "\n",
        "      if batch % 100 == 0:\n",
        "        print('Epoch {} Batch {} Loss {:.4f}'.format(epoch + 1,\n",
        "                                                    batch,\n",
        "                                                    batch_loss.numpy()))\n",
        "    # saving (checkpoint) the model every 2 epochs\n",
        "    if (epoch + 1) % 2 == 0:\n",
        "      checkpoint.save(file_prefix = checkpoint_prefix)\n",
        "\n",
        "    print('Epoch {} Loss {:.4f}'.format(epoch + 1,\n",
        "                                        total_loss / steps_per_epoch))\n",
        "    print('Time taken for 1 epoch {} sec\\n'.format(time.time() - start))"
      ],
      "id": "protected-tissue",
      "execution_count": null,
      "outputs": [
        {
          "output_type": "stream",
          "name": "stdout",
          "text": [
            "Epoch 1 Batch 0 Loss 1.3985\n",
            "Epoch 1 Batch 100 Loss 0.8271\n",
            "Epoch 1 Batch 200 Loss 0.6590\n",
            "Epoch 1 Batch 300 Loss 0.6741\n",
            "Epoch 1 Batch 400 Loss 0.7321\n",
            "Epoch 1 Batch 500 Loss 0.7267\n",
            "Epoch 1 Batch 600 Loss 0.6377\n",
            "Epoch 1 Batch 700 Loss 0.7032\n",
            "Epoch 1 Batch 800 Loss 0.5413\n",
            "Epoch 1 Loss 0.6863\n",
            "Time taken for 1 epoch 1062.5059523582458 sec\n",
            "\n",
            "Epoch 2 Batch 0 Loss 0.5487\n",
            "Epoch 2 Batch 100 Loss 0.6002\n",
            "Epoch 2 Batch 200 Loss 0.6106\n",
            "Epoch 2 Batch 300 Loss 0.5236\n",
            "Epoch 2 Batch 400 Loss 0.5319\n",
            "Epoch 2 Batch 500 Loss 0.5205\n",
            "Epoch 2 Batch 600 Loss 0.5195\n",
            "Epoch 2 Batch 700 Loss 0.5065\n",
            "Epoch 2 Batch 800 Loss 0.4838\n",
            "Epoch 2 Loss 0.5364\n",
            "Time taken for 1 epoch 983.6523725986481 sec\n",
            "\n",
            "Epoch 3 Batch 0 Loss 0.3753\n",
            "Epoch 3 Batch 100 Loss 0.4109\n",
            "Epoch 3 Batch 200 Loss 0.4270\n",
            "Epoch 3 Batch 300 Loss 0.4737\n",
            "Epoch 3 Batch 400 Loss 0.4240\n",
            "Epoch 3 Batch 500 Loss 0.4785\n",
            "Epoch 3 Batch 600 Loss 0.4217\n",
            "Epoch 3 Batch 700 Loss 0.5353\n",
            "Epoch 3 Batch 800 Loss 0.3966\n",
            "Epoch 3 Loss 0.4379\n",
            "Time taken for 1 epoch 981.9078648090363 sec\n",
            "\n",
            "Epoch 4 Batch 0 Loss 0.3193\n",
            "Epoch 4 Batch 100 Loss 0.2857\n",
            "Epoch 4 Batch 200 Loss 0.3034\n",
            "Epoch 4 Batch 300 Loss 0.3183\n",
            "Epoch 4 Batch 400 Loss 0.4355\n",
            "Epoch 4 Batch 500 Loss 0.3630\n",
            "Epoch 4 Batch 600 Loss 0.3432\n",
            "Epoch 4 Batch 700 Loss 0.4289\n",
            "Epoch 4 Batch 800 Loss 0.3601\n",
            "Epoch 4 Loss 0.3503\n",
            "Time taken for 1 epoch 983.397388458252 sec\n",
            "\n",
            "Epoch 5 Batch 0 Loss 0.2805\n",
            "Epoch 5 Batch 100 Loss 0.2695\n",
            "Epoch 5 Batch 200 Loss 0.2474\n",
            "Epoch 5 Batch 300 Loss 0.2827\n",
            "Epoch 5 Batch 400 Loss 0.2531\n",
            "Epoch 5 Batch 500 Loss 0.2249\n",
            "Epoch 5 Batch 600 Loss 0.2889\n",
            "Epoch 5 Batch 700 Loss 0.2539\n",
            "Epoch 5 Batch 800 Loss 0.3131\n",
            "Epoch 5 Loss 0.2756\n",
            "Time taken for 1 epoch 980.8946902751923 sec\n",
            "\n",
            "Epoch 6 Batch 0 Loss 0.2259\n",
            "Epoch 6 Batch 100 Loss 0.1792\n",
            "Epoch 6 Batch 200 Loss 0.2548\n",
            "Epoch 6 Batch 300 Loss 0.2478\n",
            "Epoch 6 Batch 400 Loss 0.1940\n",
            "Epoch 6 Batch 500 Loss 0.1868\n",
            "Epoch 6 Batch 600 Loss 0.1957\n",
            "Epoch 6 Batch 700 Loss 0.2510\n",
            "Epoch 6 Batch 800 Loss 0.2251\n",
            "Epoch 6 Loss 0.2186\n",
            "Time taken for 1 epoch 982.7614405155182 sec\n",
            "\n",
            "Epoch 7 Batch 0 Loss 0.1728\n",
            "Epoch 7 Batch 100 Loss 0.1703\n",
            "Epoch 7 Batch 200 Loss 0.1627\n",
            "Epoch 7 Batch 300 Loss 0.1859\n",
            "Epoch 7 Batch 400 Loss 0.1817\n",
            "Epoch 7 Batch 500 Loss 0.1790\n",
            "Epoch 7 Batch 600 Loss 0.1899\n",
            "Epoch 7 Batch 700 Loss 0.2038\n",
            "Epoch 7 Batch 800 Loss 0.1672\n",
            "Epoch 7 Loss 0.1772\n",
            "Time taken for 1 epoch 980.8012411594391 sec\n",
            "\n",
            "Epoch 8 Batch 0 Loss 0.1702\n",
            "Epoch 8 Batch 100 Loss 0.1669\n",
            "Epoch 8 Batch 200 Loss 0.1380\n",
            "Epoch 8 Batch 300 Loss 0.1384\n",
            "Epoch 8 Batch 400 Loss 0.1361\n",
            "Epoch 8 Batch 500 Loss 0.1177\n",
            "Epoch 8 Batch 600 Loss 0.1410\n",
            "Epoch 8 Batch 700 Loss 0.1577\n",
            "Epoch 8 Batch 800 Loss 0.2080\n",
            "Epoch 8 Loss 0.1427\n",
            "Time taken for 1 epoch 983.0784683227539 sec\n",
            "\n",
            "Epoch 9 Batch 0 Loss 0.0994\n",
            "Epoch 9 Batch 100 Loss 0.1004\n",
            "Epoch 9 Batch 200 Loss 0.0968\n",
            "Epoch 9 Batch 300 Loss 0.1066\n",
            "Epoch 9 Batch 400 Loss 0.1106\n",
            "Epoch 9 Batch 500 Loss 0.1364\n",
            "Epoch 9 Batch 600 Loss 0.1317\n",
            "Epoch 9 Batch 700 Loss 0.1460\n",
            "Epoch 9 Batch 800 Loss 0.1404\n",
            "Epoch 9 Loss 0.1144\n",
            "Time taken for 1 epoch 981.7109169960022 sec\n",
            "\n",
            "Epoch 10 Batch 0 Loss 0.0752\n",
            "Epoch 10 Batch 100 Loss 0.0875\n",
            "Epoch 10 Batch 200 Loss 0.0836\n",
            "Epoch 10 Batch 300 Loss 0.0791\n",
            "Epoch 10 Batch 400 Loss 0.1042\n",
            "Epoch 10 Batch 500 Loss 0.0792\n",
            "Epoch 10 Batch 600 Loss 0.1137\n",
            "Epoch 10 Batch 700 Loss 0.0882\n",
            "Epoch 10 Batch 800 Loss 0.1135\n",
            "Epoch 10 Loss 0.0915\n",
            "Time taken for 1 epoch 983.4332435131073 sec\n",
            "\n",
            "Epoch 11 Batch 0 Loss 0.0638\n",
            "Epoch 11 Batch 100 Loss 0.0798\n",
            "Epoch 11 Batch 200 Loss 0.0548\n",
            "Epoch 11 Batch 300 Loss 0.0658\n",
            "Epoch 11 Batch 400 Loss 0.0832\n",
            "Epoch 11 Batch 500 Loss 0.0685\n",
            "Epoch 11 Batch 600 Loss 0.1118\n",
            "Epoch 11 Batch 700 Loss 0.0861\n",
            "Epoch 11 Batch 800 Loss 0.1043\n",
            "Epoch 11 Loss 0.0737\n",
            "Time taken for 1 epoch 982.001574754715 sec\n",
            "\n",
            "Epoch 12 Batch 0 Loss 0.0527\n",
            "Epoch 12 Batch 100 Loss 0.0611\n",
            "Epoch 12 Batch 200 Loss 0.0779\n",
            "Epoch 12 Batch 300 Loss 0.0391\n",
            "Epoch 12 Batch 400 Loss 0.0509\n",
            "Epoch 12 Batch 500 Loss 0.0714\n",
            "Epoch 12 Batch 600 Loss 0.0589\n",
            "Epoch 12 Batch 700 Loss 0.0564\n",
            "Epoch 12 Batch 800 Loss 0.0651\n",
            "Epoch 12 Loss 0.0595\n",
            "Time taken for 1 epoch 983.9675281047821 sec\n",
            "\n",
            "Epoch 13 Batch 0 Loss 0.0544\n",
            "Epoch 13 Batch 100 Loss 0.0336\n",
            "Epoch 13 Batch 200 Loss 0.0378\n",
            "Epoch 13 Batch 300 Loss 0.0407\n",
            "Epoch 13 Batch 400 Loss 0.0456\n",
            "Epoch 13 Batch 500 Loss 0.0550\n",
            "Epoch 13 Batch 600 Loss 0.0599\n",
            "Epoch 13 Batch 700 Loss 0.0549\n",
            "Epoch 13 Batch 800 Loss 0.0660\n",
            "Epoch 13 Loss 0.0488\n",
            "Time taken for 1 epoch 982.3592329025269 sec\n",
            "\n",
            "Epoch 14 Batch 0 Loss 0.0340\n",
            "Epoch 14 Batch 100 Loss 0.0309\n",
            "Epoch 14 Batch 200 Loss 0.0382\n",
            "Epoch 14 Batch 300 Loss 0.0379\n",
            "Epoch 14 Batch 400 Loss 0.0497\n",
            "Epoch 14 Batch 500 Loss 0.0315\n",
            "Epoch 14 Batch 600 Loss 0.0411\n",
            "Epoch 14 Batch 700 Loss 0.0510\n",
            "Epoch 14 Batch 800 Loss 0.0500\n"
          ]
        }
      ]
    },
    {
      "cell_type": "code",
      "metadata": {
        "id": "suburban-programmer"
      },
      "source": [
        "# restoring the latest checkpoint in checkpoint_dir\n",
        "checkpoint.restore(tf.train.latest_checkpoint(checkpoint_dir))"
      ],
      "id": "suburban-programmer",
      "execution_count": null,
      "outputs": []
    },
    {
      "cell_type": "markdown",
      "metadata": {
        "id": "rocky-illustration"
      },
      "source": [
        "# **Prediction using Greedy Search**\n",
        "\n",
        "Greedy search is used to for Decoding of text. \n",
        "\n",
        "Plots are provided for visualization of the attention weights. \n",
        "\n",
        "BLUE score is used for evaluation of the model"
      ],
      "id": "rocky-illustration"
    },
    {
      "cell_type": "code",
      "metadata": {
        "id": "knowing-bhutan"
      },
      "source": [
        "def evaluate(sentence):\n",
        "  attention_plot = np.zeros((max_length_targ, max_length_inp))\n",
        "\n",
        "  sentence = preprocess_sentence(sentence)\n",
        "\n",
        "  inputs = [inp_lang.word_index[i] for i in sentence.split(' ')]\n",
        "  inputs = tf.keras.preprocessing.sequence.pad_sequences([inputs],\n",
        "                                                         maxlen=max_length_inp,\n",
        "                                                         padding='post')\n",
        "  inputs = tf.convert_to_tensor(inputs)\n",
        "\n",
        "  result = ''\n",
        "\n",
        "  hidden = [tf.zeros((1, units))]\n",
        "  enc_out, enc_hidden = encoder(inputs, hidden)\n",
        "\n",
        "  dec_hidden = enc_hidden\n",
        "  dec_input = tf.expand_dims([targ_lang.word_index['<sos>']], 0)\n",
        "\n",
        "  for t in range(max_length_targ):\n",
        "    predictions, dec_hidden, attention_weights = decoder(dec_input,\n",
        "                                                         dec_hidden,\n",
        "                                                         enc_out)\n",
        "    \n",
        "    # pass the encoder output, decoder hidden state(which is initialised to encoder hidden state for the first time and decoder input to the decoder)\n",
        "    # make a prediction and obtain decoder hidden states and attention weights\n",
        "\n",
        "    # storing the attention weights to plot later on\n",
        "    attention_weights = tf.reshape(attention_weights, (-1, ))\n",
        "    attention_plot[t] = attention_weights.numpy()\n",
        "\n",
        "    predicted_id = tf.argmax(predictions[0]).numpy()\n",
        "\n",
        "    result += targ_lang.index_word[predicted_id] + ' '\n",
        "\n",
        "    if targ_lang.index_word[predicted_id] == '<eos>':\n",
        "      return result, sentence, attention_plot\n",
        "\n",
        "    # the predicted ID is fed back into the model\n",
        "    dec_input = tf.expand_dims([predicted_id], 0)\n",
        "\n",
        "  return result, sentence, attention_plot"
      ],
      "id": "knowing-bhutan",
      "execution_count": null,
      "outputs": []
    },
    {
      "cell_type": "code",
      "metadata": {
        "id": "sixth-education"
      },
      "source": [
        "# function for plotting the attention weights\n",
        "from matplotlib.font_manager import FontProperties\n",
        "\n",
        "def plot_attention(attention, sentence, predicted_sentence):\n",
        "  fig = plt.figure(figsize=(10,10))\n",
        "  ax = fig.add_subplot(1, 1, 1)\n",
        "  ax.matshow(attention, cmap='viridis')\n",
        "\n",
        "  fontdict = {'fontsize': 18}\n",
        "  hindi_font = FontProperties(fname = 'Nirmala.ttf')\n",
        "\n",
        "  ax.set_xticklabels([''] + sentence, fontdict=fontdict, rotation=90)\n",
        "  ax.set_yticklabels([''] + predicted_sentence, fontproperties=hindi_font, fontsize='18')\n",
        "\n",
        "  ax.xaxis.set_major_locator(ticker.MultipleLocator(1))\n",
        "  ax.yaxis.set_major_locator(ticker.MultipleLocator(1))\n",
        "  \n",
        "  plt.show()"
      ],
      "id": "sixth-education",
      "execution_count": null,
      "outputs": []
    },
    {
      "cell_type": "code",
      "metadata": {
        "id": "vanilla-symposium"
      },
      "source": [
        "def translate(sentence, plotgraph):\n",
        "  result, sentence, attention_plot = evaluate(sentence)\n",
        "  print('Input: %s' % (sentence))\n",
        "  print('Predicted translation: {}'.format(result))\n",
        "  attention_plot = attention_plot[:len(result.split(' ')), :len(sentence.split(' '))]\n",
        "  if plotgraph:\n",
        "      plot_attention(attention_plot, sentence.split(' '), result.split(' '))\n",
        "\n",
        "  return result"
      ],
      "id": "vanilla-symposium",
      "execution_count": null,
      "outputs": []
    },
    {
      "cell_type": "code",
      "metadata": {
        "id": "marked-albania"
      },
      "source": [
        "translate(\"I am hungry\", True)"
      ],
      "id": "marked-albania",
      "execution_count": null,
      "outputs": []
    },
    {
      "cell_type": "code",
      "metadata": {
        "id": "little-edmonton"
      },
      "source": [
        "translate(\"I am hungry. Can you give me something to eat.\", True)"
      ],
      "id": "little-edmonton",
      "execution_count": null,
      "outputs": []
    },
    {
      "cell_type": "code",
      "metadata": {
        "id": "norwegian-prague"
      },
      "source": [
        "test_input_sentences = []\n",
        "test_output_sentences = []\n",
        "\n",
        "for line in open(r'test.en', encoding=\"utf-8\"):\n",
        "\n",
        "    test_input_sentence = line.rstrip().strip(\"\\n\").strip('-')\n",
        "    test_input_sentences.append(test_input_sentence)\n",
        "\n",
        "\n",
        "for line in open(r'test.hi'):\n",
        "    test_output_sentence =  line.rstrip().strip(\"\\n\").strip('-')\n",
        "    line = indic_tokenize.trivial_tokenize(test_output_sentence)\n",
        "    \n",
        "    test_output_sentences.append(['<sos>'] + line + ['<eos>'])\n",
        "    \n",
        "print(type(test_input_sentences[90]))\n",
        "print(len(test_output_sentences))\n",
        "print(test_input_sentences[90])\n",
        "print(test_output_sentences[90])"
      ],
      "id": "norwegian-prague",
      "execution_count": null,
      "outputs": []
    },
    {
      "cell_type": "code",
      "metadata": {
        "id": "mechanical-allowance"
      },
      "source": [
        "from nltk.translate.bleu_score import corpus_bleu\n",
        "from nltk.translate.bleu_score import SmoothingFunction\n",
        "chencherry = SmoothingFunction()\n",
        "evaluate_n_sentences = 10\n",
        "\n",
        "references = []\n",
        "candidates = []\n",
        "for i in range(evaluate_n_sentences):\n",
        "  try:\n",
        "    res = translate(test_input_sentences[i], False) \n",
        "    ref = test_output_sentences[i].copy()\n",
        "    ref = [e for e in ref if e not in ('<eos>', '<sos>', '.')]\n",
        "    references.append(ref)\n",
        "    listToStr = ' '.join(map(str, test_output_sentences[i]))\n",
        "    print('Reference Translation: %s' % (listToStr))\n",
        "    candidate = indic_tokenize.trivial_tokenize(res)\n",
        "    candidate = [e for e in candidate if e not in ('<', 'eos','>', '.')]\n",
        "    candidates.append(candidate)\n",
        "  except:\n",
        "    print('Sentence :', i+1, ' not translatable ..moving to next' )\n",
        "score1 = corpus_bleu(references, candidates, smoothing_function=chencherry.method4)\n",
        "score2 = corpus_bleu(references, candidates)\n",
        "print('BLEU score on test data without smoothing function: ' ,score2)\n",
        "print('BLEU score on test data with smoothing function: ' ,score1)"
      ],
      "id": "mechanical-allowance",
      "execution_count": null,
      "outputs": []
    },
    {
      "cell_type": "markdown",
      "metadata": {
        "id": "SazKWgl7pYWE"
      },
      "source": [
        "# **Prediction using Beam Search**\n",
        "\n",
        "We extend the Decoder Prediction Model to use the Beam Search algorithm with a configurable value of the Beam Width (k)"
      ],
      "id": "SazKWgl7pYWE"
    },
    {
      "cell_type": "markdown",
      "metadata": {
        "id": "Xp61kLQYPkxI"
      },
      "source": [
        "#### Beam Search Implementation"
      ],
      "id": "Xp61kLQYPkxI"
    },
    {
      "cell_type": "code",
      "metadata": {
        "id": "CmeeJV0SuBEG"
      },
      "source": [
        "def softmax(x):\n",
        "    \"\"\"Compute softmax values for each sets of scores in x.\"\"\"\n",
        "    e_x = np.exp(x - np.max(x))\n",
        "    return e_x / e_x.sum()\n",
        "\n",
        "def reduce_mul(l):\n",
        "    out = 1.0\n",
        "    for x in l:\n",
        "        out *= x\n",
        "    return out\n",
        "\n",
        "def check_all_done(seqs):\n",
        "    for seq in seqs:\n",
        "        if (targ_lang.index_word[seq[-1][0]]!='<eos>') :\n",
        "            return False\n",
        "    return True\n",
        "\n",
        "#seq: [[word,word],[word,word],[word,word]]\n",
        "#output: [[word,word,word],[word,word,word],[word,word,word]]\n",
        "def beam_search_step(dec_hid, enc_out, top_seqs, k):       \n",
        "    all_seqs = []\n",
        "    scores=[]\n",
        "    for seq in top_seqs:\n",
        "        seq_score = reduce_mul([_score for _,_score in seq])\n",
        "        if (targ_lang.index_word[seq[-1][0]]=='<eos>') :\n",
        "            all_seqs.append((seq, seq_score, True))\n",
        "            # Reached on end of string for this seq. Dont predict any further\n",
        "            continue\n",
        "        #get predictions using encoder_context & seq last element\n",
        "        dec_input = tf.expand_dims([seq[-1][0]], 0)\n",
        "        predictions, dec_hid, _ = decoder(dec_input, dec_hid, enc_out)\n",
        "        output_step = [(idx,prob) for idx,prob in enumerate(softmax(predictions[0].numpy()))]        \n",
        "        output_step = sorted(output_step, key=lambda x: x[1], reverse=True)\n",
        "        for i,word in enumerate(output_step):   \n",
        "            if i >= k:\n",
        "                break\n",
        "            word_index = word[0]\n",
        "            word_score = word[1]   \n",
        "            score = seq_score * word_score\n",
        "            rs_seq = seq + [word]\n",
        "            done = (word_index == targ_lang.word_index['<eos>'])            \n",
        "            all_seqs.append((rs_seq, score, done))    \n",
        "    all_seqs = sorted(all_seqs, key = lambda seq: seq[1], reverse=True)\n",
        "    topk_seqs = [seq for seq,_,_ in all_seqs[:k]]\n",
        "    topk_scores = [scores for _,scores,_ in all_seqs[:k]]\n",
        "    all_done = check_all_done(topk_seqs)\n",
        "    return topk_seqs, all_done, dec_hid, topk_scores\n",
        "\n",
        "def evaluate_beam_search(sentence):\n",
        "\n",
        "  sentence = preprocess_sentence(sentence)\n",
        "\n",
        "  inputs = [inp_lang.word_index[i] for i in sentence.split(' ')]\n",
        "  inputs = tf.keras.preprocessing.sequence.pad_sequences([inputs],\n",
        "                                                         maxlen=max_length_inp,\n",
        "                                                         padding='post')\n",
        "  inputs = tf.convert_to_tensor(inputs)\n",
        "\n",
        "  hidden = [tf.zeros((1, units))]\n",
        "  enc_out, enc_hidden = encoder(inputs, hidden)\n",
        "  dec_hidden = enc_hidden\n",
        "  beam_seqs = [[(targ_lang.word_index['<sos>'],1.0)]]\n",
        "  beam_size = 3\n",
        "  for _ in range(max_length_targ):\n",
        "    beam_seqs, all_done, dec_hidden, scores_seq = beam_search_step(dec_hidden, enc_out, beam_seqs, beam_size)\n",
        "    if all_done:            \n",
        "      break \n",
        "  # Return the top results\n",
        "  result=[]\n",
        "  for top_beam in beam_seqs:\n",
        "    kresult =''\n",
        "    for pred_id,_ in top_beam:\n",
        "      kresult += targ_lang.index_word[pred_id] + ' '\n",
        "    result= result+[kresult]\n",
        "  return result, scores_seq"
      ],
      "id": "CmeeJV0SuBEG",
      "execution_count": null,
      "outputs": []
    },
    {
      "cell_type": "markdown",
      "metadata": {
        "id": "HyxG6E3kPq0r"
      },
      "source": [
        "### Using Beam Search"
      ],
      "id": "HyxG6E3kPq0r"
    },
    {
      "cell_type": "code",
      "metadata": {
        "id": "kJ1hzCGouTun"
      },
      "source": [
        "def translate_beam(sentence):\n",
        "  result, score = evaluate_beam_search(sentence)\n",
        "  return result, score"
      ],
      "id": "kJ1hzCGouTun",
      "execution_count": null,
      "outputs": []
    },
    {
      "cell_type": "code",
      "metadata": {
        "id": "zqTpevGSunAB"
      },
      "source": [
        "translate_beam(\"I am hungry.\")"
      ],
      "id": "zqTpevGSunAB",
      "execution_count": null,
      "outputs": []
    },
    {
      "cell_type": "markdown",
      "metadata": {
        "id": "lw8VMQQEwVHy"
      },
      "source": [
        "# *References*\n",
        "\n",
        "1. The dataset is obtained from [here](http://lotus.kuee.kyoto-u.ac.jp/WAT/indic-multilingual/) \n",
        "\n",
        "2. Refer the tensorflow tutorials available on NMT [here](https://tensorflow.org/tutorials/text/nmt_with_attention) and [here](https://www.tensorflow.org/addons/tutorials/networks_seq2seq_nmt) for examples on which this notebook is modelled. \n",
        "\n",
        "3. Refer reference code and documentation available [here](https://github.com/prashanthi-r/Eng-Hin-Neural-Machine-Translation) which has been adopted\n",
        "\n",
        "4. Indic Library documentation can be found [here](https://github.com/anoopkunchukuttan/indic_nlp_library/blob/master/docs/indicnlp.pdf)\n",
        "\n",
        "5. Toy example for Beam Search adopted provided [here](https://gist.github.com/xylcbd/0abee09de5ca6a0364c4de2aa46ef90f)\n",
        "\n",
        "\n",
        "\n",
        "\n",
        "\n",
        "\n"
      ],
      "id": "lw8VMQQEwVHy"
    }
  ]
}