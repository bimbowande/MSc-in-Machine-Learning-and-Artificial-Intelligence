{
  "cells": [
    {
      "cell_type": "markdown",
      "metadata": {
        "id": "jOf8rdr7sKKW"
      },
      "source": [
        "#### Importing packages"
      ]
    },
    {
      "cell_type": "code",
      "execution_count": 1,
      "metadata": {
        "_cell_guid": "b1076dfc-b9ad-4769-8c92-a6c4dae69d19",
        "_uuid": "8f2839f25d086af736a60e9eeb907d3b93b6e0e5",
        "id": "ypyZzFzgsKKc",
        "trusted": true
      },
      "outputs": [
        {
          "name": "stdout",
          "output_type": "stream",
          "text": [
            "time: 1.65 s (started: 2022-11-05 00:14:14 +05:30)\n"
          ]
        }
      ],
      "source": [
        "%load_ext autotime\n",
        "\n",
        "import os\n",
        "\n",
        "import tensorflow as tf \n",
        "from tensorflow import keras \n",
        "from tensorflow.keras import layers,Model \n",
        "from tensorflow.keras.datasets import mnist \n",
        "from keras.utils import plot_model "
      ]
    },
    {
      "cell_type": "markdown",
      "metadata": {
        "id": "rkIdMxixsKKh"
      },
      "source": [
        "# Subclassing"
      ]
    },
    {
      "cell_type": "markdown",
      "metadata": {
        "id": "28x5-0-2sKKh"
      },
      "source": [
        "Model subclassing--> Both the sequential model and functional API of Keras are useful for building models that are straightforward but they cannot be customized beyond one extent. To overcome this shortcoming Keras provides a more flexible option of Model SubClassing to build fully-customizable models. This is useful when you are researching new types of architecture from scratch.\n"
      ]
    },
    {
      "cell_type": "markdown",
      "metadata": {
        "id": "cmFbn3IQsKKi"
      },
      "source": [
        "### Implementing custom layers:\n",
        "The best way to implement your own layer is extending the tf.keras.Layer class and implementing:\n",
        "\n",
        "* __init__ , where you can do all input-independent initialization. \n",
        "> The __init__ method is similar to constructors in C++ and Java. Constructors are used to initialize the object’s state. The task of constructors is to initialize(assign values) to the data members of the class when an object of class is created. The method is useful to do any initialization you want to do with your object.\n",
        "* self, The keyword self represents the instance of a class and binds the attributes with the given arguments.\n",
        "> The reason you need to use self. is because Python does not use the @ syntax to refer to instance attributes. self is parameter in function and user can use another parameter name in place of it.But it is advisable to use self because it increase the readability of code.\n",
        "* super(), It returns a proxy/temporary object that allows us to access methods of the base class.\n",
        "* call, where you do the forward computation\n",
        "\n",
        "Creating variables in __init__ would mean that shapes required to create the variables will need to be explicitly specified."
      ]
    },
    {
      "cell_type": "code",
      "execution_count": 2,
      "metadata": {
        "id": "3vQMBmYWsKKi",
        "trusted": true
      },
      "outputs": [
        {
          "name": "stdout",
          "output_type": "stream",
          "text": [
            "time: 304 µs (started: 2022-11-05 00:14:15 +05:30)\n"
          ]
        }
      ],
      "source": [
        "class car(): \n",
        "    # blueprint for car\n",
        "\n",
        "    def __init__(self, model, color): \n",
        "        self.model = model \n",
        "        self.color = color \n",
        "          \n",
        "    def show(self): \n",
        "        print(\"The model name is\", self.model ) \n",
        "        print(\"The color is\", self.color ) "
      ]
    },
    {
      "cell_type": "code",
      "execution_count": 3,
      "metadata": {
        "id": "rRyQhWzJytIY"
      },
      "outputs": [
        {
          "name": "stdout",
          "output_type": "stream",
          "text": [
            "time: 207 µs (started: 2022-11-05 00:14:16 +05:30)\n"
          ]
        }
      ],
      "source": [
        "audi = car(\"audi r8\", \"red\") \n",
        "ford = car(\"mustang gt\", \"black\") "
      ]
    },
    {
      "cell_type": "code",
      "execution_count": 4,
      "metadata": {
        "id": "xAmDsH0BsKKi",
        "trusted": true
      },
      "outputs": [
        {
          "data": {
            "text/plain": [
              "'audi r8'"
            ]
          },
          "execution_count": 4,
          "metadata": {},
          "output_type": "execute_result"
        },
        {
          "name": "stdout",
          "output_type": "stream",
          "text": [
            "time: 3.04 ms (started: 2022-11-05 00:14:16 +05:30)\n"
          ]
        }
      ],
      "source": [
        "audi.model"
      ]
    },
    {
      "cell_type": "code",
      "execution_count": 5,
      "metadata": {
        "id": "iFccXqZAsKKj",
        "trusted": true
      },
      "outputs": [
        {
          "name": "stdout",
          "output_type": "stream",
          "text": [
            "The model name is audi r8\n",
            "The color is red\n",
            "The model name is mustang gt\n",
            "The color is black\n",
            "time: 470 µs (started: 2022-11-05 00:14:16 +05:30)\n"
          ]
        }
      ],
      "source": [
        "audi.show()     \n",
        "ford.show()  "
      ]
    },
    {
      "cell_type": "code",
      "execution_count": 6,
      "metadata": {
        "id": "1bHAJLF0sKKj",
        "trusted": true
      },
      "outputs": [
        {
          "name": "stdout",
          "output_type": "stream",
          "text": [
            "time: 372 µs (started: 2022-11-05 00:14:16 +05:30)\n"
          ]
        }
      ],
      "source": [
        "class Rectangle:\n",
        "    def __init__(self, length, width):\n",
        "        self.length = length\n",
        "        self.width = width\n",
        "\n",
        "    def area(self):\n",
        "        return self.length * self.width\n",
        "\n",
        "class Square:\n",
        "    def __init__(self, length):\n",
        "        self.length = length\n",
        "\n",
        "    def area(self):\n",
        "        return self.length * self.length\n"
      ]
    },
    {
      "cell_type": "code",
      "execution_count": 7,
      "metadata": {
        "id": "depEgfSlsKKj",
        "trusted": true
      },
      "outputs": [
        {
          "data": {
            "text/plain": [
              "16"
            ]
          },
          "execution_count": 7,
          "metadata": {},
          "output_type": "execute_result"
        },
        {
          "name": "stdout",
          "output_type": "stream",
          "text": [
            "time: 1.09 ms (started: 2022-11-05 00:14:16 +05:30)\n"
          ]
        }
      ],
      "source": [
        "square = Square(4)\n",
        "square.area()"
      ]
    },
    {
      "cell_type": "code",
      "execution_count": 8,
      "metadata": {
        "id": "vI5oWaNVsKKj",
        "trusted": true
      },
      "outputs": [
        {
          "data": {
            "text/plain": [
              "8"
            ]
          },
          "execution_count": 8,
          "metadata": {},
          "output_type": "execute_result"
        },
        {
          "name": "stdout",
          "output_type": "stream",
          "text": [
            "time: 1 ms (started: 2022-11-05 00:14:16 +05:30)\n"
          ]
        }
      ],
      "source": [
        "rectangle = Rectangle(2,4)\n",
        "rectangle.area()"
      ]
    },
    {
      "cell_type": "markdown",
      "metadata": {
        "id": "gJc6yvMJsKKj"
      },
      "source": [
        "> By using inheritance, you can reduce the amount of code you write while simultaneously reflecting the real-world relationship between rectangles and squares:\n",
        "\n",
        "Here, you’ve used super() to call the __init__() of the Rectangle class, allowing you to use it in the Square class without repeating code. Below, the core functionality remains after making changes:"
      ]
    },
    {
      "cell_type": "code",
      "execution_count": 9,
      "metadata": {
        "id": "yVCmlZ7MsKKk",
        "trusted": true
      },
      "outputs": [
        {
          "name": "stdout",
          "output_type": "stream",
          "text": [
            "time: 329 µs (started: 2022-11-05 00:14:16 +05:30)\n"
          ]
        }
      ],
      "source": [
        "class Rectangle:\n",
        "    def __init__(self, length, width):\n",
        "        self.length = length\n",
        "        self.width = width\n",
        "\n",
        "    def area(self):\n",
        "        return self.length * self.width\n",
        "\n",
        "# Here we declare that the Square class inherits from the Rectangle class\n",
        "class Square(Rectangle):\n",
        "    def __init__(self, length):\n",
        "        super().__init__(length, length)"
      ]
    },
    {
      "cell_type": "code",
      "execution_count": 10,
      "metadata": {
        "id": "awS-d2K8s-oX"
      },
      "outputs": [
        {
          "data": {
            "text/plain": [
              "16"
            ]
          },
          "execution_count": 10,
          "metadata": {},
          "output_type": "execute_result"
        },
        {
          "name": "stdout",
          "output_type": "stream",
          "text": [
            "time: 979 µs (started: 2022-11-05 00:14:16 +05:30)\n"
          ]
        }
      ],
      "source": [
        "square = Square(4)\n",
        "square.area()"
      ]
    },
    {
      "cell_type": "code",
      "execution_count": 11,
      "metadata": {
        "id": "aFoj_SDxeMhF"
      },
      "outputs": [
        {
          "name": "stdout",
          "output_type": "stream",
          "text": [
            "time: 190 ms (started: 2022-11-05 00:14:16 +05:30)\n"
          ]
        }
      ],
      "source": [
        "(x_train, y_train), (x_test, y_test) = mnist.load_data()\n",
        "x_train = x_train.reshape(-1, 28 * 28).astype(\"float32\") / 255.0\n",
        "x_test = x_test.reshape(-1, 28 * 28).astype(\"float32\") / 255.0"
      ]
    },
    {
      "cell_type": "markdown",
      "metadata": {
        "id": "Vy843tQGfpSR"
      },
      "source": [
        "\n",
        "\n",
        "> The __call__ method inside Model infact comes from keras.engine.layer._Layer class. It is inherited by Model class.\n",
        "\n",
        "> We want to override the inherited call method, with the new __call__ method.\n",
        "\n",
        "> That is why we don't need to do a model.call(). So when we call our model instance, it's inherited __call__ method will be executed automatically, which calls our own call method.\n",
        "\n",
        "\n",
        "\n",
        "\n",
        "\n"
      ]
    },
    {
      "cell_type": "code",
      "execution_count": 12,
      "metadata": {
        "id": "vr2xEVPosKKk",
        "trusted": true
      },
      "outputs": [
        {
          "name": "stdout",
          "output_type": "stream",
          "text": [
            "time: 545 µs (started: 2022-11-05 00:14:16 +05:30)\n"
          ]
        }
      ],
      "source": [
        "class MyModel(keras.Model):  # model.fit, model.evalute, model.predict\n",
        "    def __init__(self, num_classes=10):\n",
        "        super().__init__()\n",
        "        self.dense1 = layers.Dense(64)\n",
        "        self.dense2 = layers.Dense(num_classes)\n",
        "\n",
        "    def call(self, x):\n",
        "        x = tf.nn.relu(self.dense1(x))\n",
        "        return self.dense2(x)\n",
        "\n",
        "    def model(self):\n",
        "      x=keras.Input(shape=(28*28))\n",
        "      return Model(inputs=[x],outputs=self.call(x))"
      ]
    },
    {
      "cell_type": "code",
      "execution_count": 13,
      "metadata": {
        "id": "ENAGTo_aeRlO"
      },
      "outputs": [
        {
          "name": "stdout",
          "output_type": "stream",
          "text": [
            "Metal device set to: Apple M1 Pro\n",
            "\n",
            "systemMemory: 32.00 GB\n",
            "maxCacheSize: 10.67 GB\n",
            "\n",
            "time: 12.6 ms (started: 2022-11-05 00:14:16 +05:30)\n"
          ]
        },
        {
          "name": "stderr",
          "output_type": "stream",
          "text": [
            "2022-11-05 00:14:16.472238: I tensorflow/core/common_runtime/pluggable_device/pluggable_device_factory.cc:305] Could not identify NUMA node of platform GPU ID 0, defaulting to 0. Your kernel may not have been built with NUMA support.\n",
            "2022-11-05 00:14:16.472361: I tensorflow/core/common_runtime/pluggable_device/pluggable_device_factory.cc:271] Created TensorFlow device (/job:localhost/replica:0/task:0/device:GPU:0 with 0 MB memory) -> physical PluggableDevice (device: 0, name: METAL, pci bus id: <undefined>)\n"
          ]
        }
      ],
      "source": [
        "sub_model = MyModel()"
      ]
    },
    {
      "cell_type": "code",
      "execution_count": 14,
      "metadata": {
        "id": "VC8jRx_NeURk"
      },
      "outputs": [
        {
          "name": "stdout",
          "output_type": "stream",
          "text": [
            "Model: \"model\"\n",
            "_________________________________________________________________\n",
            " Layer (type)                Output Shape              Param #   \n",
            "=================================================================\n",
            " input_1 (InputLayer)        [(None, 784)]             0         \n",
            "                                                                 \n",
            " dense (Dense)               (None, 64)                50240     \n",
            "                                                                 \n",
            " tf.nn.relu (TFOpLambda)     (None, 64)                0         \n",
            "                                                                 \n",
            " dense_1 (Dense)             (None, 10)                650       \n",
            "                                                                 \n",
            "=================================================================\n",
            "Total params: 50,890\n",
            "Trainable params: 50,890\n",
            "Non-trainable params: 0\n",
            "_________________________________________________________________\n",
            "time: 80.9 ms (started: 2022-11-05 00:14:16 +05:30)\n"
          ]
        }
      ],
      "source": [
        "sub_model.model().summary()"
      ]
    },
    {
      "cell_type": "code",
      "execution_count": 15,
      "metadata": {
        "id": "owZiXCsFeWir"
      },
      "outputs": [
        {
          "name": "stdout",
          "output_type": "stream",
          "text": [
            "time: 7.71 ms (started: 2022-11-05 00:14:16 +05:30)\n"
          ]
        },
        {
          "name": "stderr",
          "output_type": "stream",
          "text": [
            "/opt/miniconda3/lib/python3.9/site-packages/keras/optimizers/optimizer_v2/adam.py:110: UserWarning: The `lr` argument is deprecated, use `learning_rate` instead.\n",
            "  super(Adam, self).__init__(name, **kwargs)\n"
          ]
        }
      ],
      "source": [
        "sub_model.compile(\n",
        "    loss=keras.losses.SparseCategoricalCrossentropy(from_logits=True),\n",
        "    optimizer=keras.optimizers.Adam(lr=0.001),\n",
        "    metrics=[\"accuracy\"])\n"
      ]
    },
    {
      "cell_type": "code",
      "execution_count": 16,
      "metadata": {
        "id": "y9-udt6tsKKl",
        "trusted": true
      },
      "outputs": [
        {
          "data": {
            "image/png": "[encoded data removed]",
            "text/plain": [
              "<IPython.core.display.Image object>"
            ]
          },
          "execution_count": 16,
          "metadata": {},
          "output_type": "execute_result"
        },
        {
          "name": "stdout",
          "output_type": "stream",
          "text": [
            "time: 192 ms (started: 2022-11-05 00:14:16 +05:30)\n"
          ]
        }
      ],
      "source": [
        "plot_model(sub_model.model(), to_file='sub_model.png',show_shapes=True)"
      ]
    },
    {
      "cell_type": "code",
      "execution_count": 17,
      "metadata": {
        "id": "AZ6jbFunmZ2j"
      },
      "outputs": [
        {
          "name": "stdout",
          "output_type": "stream",
          "text": [
            "Epoch 1/5\n"
          ]
        },
        {
          "name": "stderr",
          "output_type": "stream",
          "text": [
            "2022-11-05 00:14:16.902506: W tensorflow/core/platform/profile_utils/cpu_utils.cc:128] Failed to get CPU frequency: 0 Hz\n"
          ]
        },
        {
          "name": "stdout",
          "output_type": "stream",
          "text": [
            "  11/1875 [..............................] - ETA: 9s - loss: 2.1316 - accuracy: 0.2983   "
          ]
        },
        {
          "name": "stderr",
          "output_type": "stream",
          "text": [
            "2022-11-05 00:14:17.150882: I tensorflow/core/grappler/optimizers/custom_graph_optimizer_registry.cc:113] Plugin optimizer for device_type GPU is enabled.\n"
          ]
        },
        {
          "name": "stdout",
          "output_type": "stream",
          "text": [
            "1875/1875 [==============================] - 9s 5ms/step - loss: 0.2985 - accuracy: 0.9156\n",
            "Epoch 2/5\n",
            "1875/1875 [==============================] - 9s 5ms/step - loss: 0.1369 - accuracy: 0.9601\n",
            "Epoch 3/5\n",
            "1875/1875 [==============================] - 9s 5ms/step - loss: 0.0987 - accuracy: 0.9717\n",
            "Epoch 4/5\n",
            "1875/1875 [==============================] - 9s 5ms/step - loss: 0.0787 - accuracy: 0.9764\n",
            "Epoch 5/5\n",
            "1875/1875 [==============================] - 9s 5ms/step - loss: 0.0630 - accuracy: 0.9810\n",
            " 12/313 [>.............................] - ETA: 1s - loss: 0.0585 - accuracy: 0.9844 "
          ]
        },
        {
          "name": "stderr",
          "output_type": "stream",
          "text": [
            "2022-11-05 00:15:02.002440: I tensorflow/core/grappler/optimizers/custom_graph_optimizer_registry.cc:113] Plugin optimizer for device_type GPU is enabled.\n"
          ]
        },
        {
          "name": "stdout",
          "output_type": "stream",
          "text": [
            "313/313 [==============================] - 2s 5ms/step - loss: 0.0851 - accuracy: 0.9742\n"
          ]
        },
        {
          "data": {
            "text/plain": [
              "[0.08513668179512024, 0.9742000699043274]"
            ]
          },
          "execution_count": 17,
          "metadata": {},
          "output_type": "execute_result"
        },
        {
          "name": "stdout",
          "output_type": "stream",
          "text": [
            "time: 46.7 s (started: 2022-11-05 00:14:16 +05:30)\n"
          ]
        }
      ],
      "source": [
        "sub_model.fit(x_train,y_train,batch_size=32,epochs=5,verbose=1)\n",
        "\n",
        "sub_model.evaluate(x_test,y_test,batch_size=32,verbose=1)\n"
      ]
    },
    {
      "cell_type": "markdown",
      "metadata": {
        "id": "rS3xVRhosKKl"
      },
      "source": [
        "### Building Dense layers\n",
        "\n",
        "\n",
        "\n",
        "*   One of the central abstraction in Keras is the Layer class. A layer encapsulates both a state (the layer's \"weights\") and a transformation from inputs to outputs (a \"call\", the layer's forward pass).\n",
        "\n",
        "Here's a densely-connected layer. It has a state: the variables w and b.\n",
        "\n",
        "\n"
      ]
    },
    {
      "cell_type": "code",
      "execution_count": 18,
      "metadata": {
        "id": "7XPlgjPosKKl",
        "trusted": true
      },
      "outputs": [
        {
          "name": "stdout",
          "output_type": "stream",
          "text": [
            "time: 412 µs (started: 2022-11-05 00:15:03 +05:30)\n"
          ]
        }
      ],
      "source": [
        "class custom_dense(keras.layers.Layer):\n",
        "    def __init__(self, units, input_dim):\n",
        "        super().__init__()\n",
        "        self.w = self.add_weight(\n",
        "            name=\"w\",\n",
        "            shape=(input_dim, units),\n",
        "            initializer=\"random_normal\",\n",
        "            trainable=True,\n",
        "        )\n",
        "        self.b = self.add_weight(\n",
        "            name=\"b\", shape=(units,), initializer=\"zeros\", trainable=True\n",
        "        )\n",
        "\n",
        "    def call(self, inputs):\n",
        "        return tf.matmul(inputs, self.w) + self.b"
      ]
    },
    {
      "cell_type": "code",
      "execution_count": 19,
      "metadata": {
        "id": "paboVrpyv52h"
      },
      "outputs": [
        {
          "name": "stdout",
          "output_type": "stream",
          "text": [
            "time: 264 µs (started: 2022-11-05 00:15:03 +05:30)\n"
          ]
        }
      ],
      "source": [
        "class MyReLU(keras.layers.Layer):\n",
        "    def __init__(self):\n",
        "        super().__init__()\n",
        "\n",
        "    def call(self, x):\n",
        "        return tf.math.maximum(x, 0)"
      ]
    },
    {
      "cell_type": "code",
      "execution_count": 20,
      "metadata": {
        "id": "B8gGKejyv8eA"
      },
      "outputs": [
        {
          "name": "stdout",
          "output_type": "stream",
          "text": [
            "time: 397 µs (started: 2022-11-05 00:15:03 +05:30)\n"
          ]
        }
      ],
      "source": [
        "class MyModel(keras.Model):  # model.fit, model.evalute, model.predict\n",
        "    def __init__(self, num_classes=10):\n",
        "        super().__init__()\n",
        "        self.dense1 = custom_dense(64,784)\n",
        "        self.dense2 = custom_dense(num_classes,64)\n",
        "        self.relu = MyReLU()\n",
        "\n",
        "    def call(self, x):\n",
        "        x = self.relu(self.dense1(x))\n",
        "        return self.dense2(x)\n",
        "    \n",
        "    def model(self):\n",
        "        x = keras.Input(shape=(28*28))\n",
        "        return Model(inputs=[x],outputs=self.call(x))"
      ]
    },
    {
      "cell_type": "code",
      "execution_count": 21,
      "metadata": {
        "colab": {
          "base_uri": "https://localhost:8080/"
        },
        "id": "ySd6vdlTCawy",
        "outputId": "3b2e3e9a-7c77-4650-9f0e-ddd82af7b466"
      },
      "outputs": [
        {
          "name": "stdout",
          "output_type": "stream",
          "text": [
            "Model: \"model_2\"\n",
            "_________________________________________________________________\n",
            " Layer (type)                Output Shape              Param #   \n",
            "=================================================================\n",
            " input_3 (InputLayer)        [(None, 784)]             0         \n",
            "                                                                 \n",
            " custom_dense (custom_dense)  (None, 64)               50240     \n",
            "                                                                 \n",
            " my_re_lu (MyReLU)           (None, 64)                0         \n",
            "                                                                 \n",
            " custom_dense_1 (custom_dens  (None, 10)               650       \n",
            " e)                                                              \n",
            "                                                                 \n",
            "=================================================================\n",
            "Total params: 50,890\n",
            "Trainable params: 50,890\n",
            "Non-trainable params: 0\n",
            "_________________________________________________________________\n",
            "time: 41.7 ms (started: 2022-11-05 00:15:03 +05:30)\n"
          ]
        }
      ],
      "source": [
        "fin_model = MyModel()\n",
        "\n",
        "fin_model.model().summary()"
      ]
    },
    {
      "cell_type": "code",
      "execution_count": 22,
      "metadata": {
        "colab": {
          "base_uri": "https://localhost:8080/"
        },
        "id": "dwoyLI05sKKl",
        "outputId": "a8cf9708-4d31-474a-ecaa-d0130e21614e",
        "trusted": true
      },
      "outputs": [
        {
          "name": "stdout",
          "output_type": "stream",
          "text": [
            "Epoch 1/5\n",
            "  11/1875 [..............................] - ETA: 9s - loss: 2.2490 - accuracy: 0.2614  "
          ]
        },
        {
          "name": "stderr",
          "output_type": "stream",
          "text": [
            "2022-11-05 00:15:03.869087: I tensorflow/core/grappler/optimizers/custom_graph_optimizer_registry.cc:113] Plugin optimizer for device_type GPU is enabled.\n"
          ]
        },
        {
          "name": "stdout",
          "output_type": "stream",
          "text": [
            "1875/1875 [==============================] - 9s 5ms/step - loss: 0.3471 - accuracy: 0.9058\n",
            "Epoch 2/5\n",
            "1875/1875 [==============================] - 9s 5ms/step - loss: 0.1665 - accuracy: 0.9521\n",
            "Epoch 3/5\n",
            "1875/1875 [==============================] - 9s 5ms/step - loss: 0.1197 - accuracy: 0.9649\n",
            "Epoch 4/5\n",
            "1875/1875 [==============================] - 9s 5ms/step - loss: 0.0947 - accuracy: 0.9719\n",
            "Epoch 5/5\n",
            "1875/1875 [==============================] - 9s 5ms/step - loss: 0.0779 - accuracy: 0.9765\n",
            " 35/313 [==>...........................] - ETA: 1s - loss: 0.0917 - accuracy: 0.9714"
          ]
        },
        {
          "name": "stderr",
          "output_type": "stream",
          "text": [
            "2022-11-05 00:15:48.741555: I tensorflow/core/grappler/optimizers/custom_graph_optimizer_registry.cc:113] Plugin optimizer for device_type GPU is enabled.\n"
          ]
        },
        {
          "name": "stdout",
          "output_type": "stream",
          "text": [
            "313/313 [==============================] - 1s 5ms/step - loss: 0.0975 - accuracy: 0.9703\n"
          ]
        },
        {
          "data": {
            "text/plain": [
              "[0.09748215228319168, 0.970300018787384]"
            ]
          },
          "execution_count": 22,
          "metadata": {},
          "output_type": "execute_result"
        },
        {
          "name": "stdout",
          "output_type": "stream",
          "text": [
            "time: 46.5 s (started: 2022-11-05 00:15:03 +05:30)\n"
          ]
        }
      ],
      "source": [
        "fin_model.compile(\n",
        "    loss=keras.losses.SparseCategoricalCrossentropy(from_logits=True),\n",
        "    optimizer=keras.optimizers.Adam(),\n",
        "    metrics=[\"accuracy\"],\n",
        ")\n",
        "\n",
        "fin_model.fit(x_train, y_train, batch_size=32, epochs=5, verbose=1)\n",
        "fin_model.evaluate(x_test, y_test, batch_size=32, verbose=1)\n"
      ]
    },
    {
      "cell_type": "markdown",
      "metadata": {
        "id": "tGRukl79sKKm"
      },
      "source": [
        "### Building Tf Datasets"
      ]
    },
    {
      "cell_type": "code",
      "execution_count": 23,
      "metadata": {
        "colab": {
          "base_uri": "https://localhost:8080/"
        },
        "id": "ao_3MQFMsKKm",
        "outputId": "29e886de-a888-4e83-d526-37c95f8af020",
        "trusted": true
      },
      "outputs": [
        {
          "name": "stdout",
          "output_type": "stream",
          "text": [
            "(60000, 28, 28, 1)\n",
            "(10000, 28, 28, 1)\n",
            "time: 398 ms (started: 2022-11-05 00:15:50 +05:30)\n"
          ]
        }
      ],
      "source": [
        "(x_train, y_train), (x_test, y_test) = mnist.load_data()\n",
        "x_train, x_test = x_train / 255.0, x_test / 255.0\n",
        "x_train = x_train.astype(\"float32\")\n",
        "x_test = x_test.astype(\"float32\")\n",
        "x_train=tf.expand_dims(x_train, -1)\n",
        "x_test=tf.expand_dims(x_test, -1)\n",
        "print(x_train.shape)\n",
        "print(x_test.shape)\n"
      ]
    },
    {
      "cell_type": "markdown",
      "metadata": {
        "id": "63KUTcJpsKKm"
      },
      "source": [
        "Under the hood,using the naive approach, this is how your execution time was spent:\n",
        "![image.png](data:image/png;base64,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)\n",
        "\n",
        "in a naive synchronous implementation like here, while your pipeline is fetching the data, your model is sitting idle. Conversely, while your model is training, the input pipeline is sitting idle. The training step time is thus the sum of opening, reading and training times."
      ]
    },
    {
      "cell_type": "markdown",
      "metadata": {
        "id": "RDTXU-_AsKKm"
      },
      "source": [
        "* The tf.data API provides the tf.data.Dataset.prefetch transformation. It can be used to decouple the time when data is produced from the time when data is consumed.'\n",
        "* The number of elements to prefetch should be equal to (or possibly greater than) the number of batches consumed by a single training step. \n",
        "* You could either manually tune this value, or set it to tf.data.AUTOTUNE, which will prompt the tf.data runtime to tune the value dynamically at runtime.\n",
        "![image.png](data:image/png;base64,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)"
      ]
    },
    {
      "cell_type": "code",
      "execution_count": 24,
      "metadata": {
        "id": "iv1q8wgvsKKn",
        "trusted": true
      },
      "outputs": [
        {
          "name": "stdout",
          "output_type": "stream",
          "text": [
            "time: 32.6 ms (started: 2022-11-05 00:15:50 +05:30)\n"
          ]
        }
      ],
      "source": [
        "AUTOTUNE = tf.data.experimental.AUTOTUNE\n",
        "\n",
        "train_dataset = tf.data.Dataset.from_tensor_slices((x_train, y_train))\n",
        "train_dataset = (train_dataset.shuffle(buffer_size=len(y_train)).batch(32,drop_remainder=True).prefetch(buffer_size=AUTOTUNE))\n",
        "\n",
        "test_dataset = tf.data.Dataset.from_tensor_slices((x_test, y_test))\n",
        "test_dataset = (test_dataset.batch(32,drop_remainder=False).prefetch(buffer_size=AUTOTUNE))"
      ]
    },
    {
      "cell_type": "code",
      "execution_count": 25,
      "metadata": {
        "colab": {
          "base_uri": "https://localhost:8080/"
        },
        "id": "HYvNKLpUsKKn",
        "outputId": "d162e64f-6094-4d2e-ca3a-85c58a5e91df",
        "trusted": true
      },
      "outputs": [
        {
          "name": "stdout",
          "output_type": "stream",
          "text": [
            "<PrefetchDataset element_spec=(TensorSpec(shape=(32, 28, 28, 1), dtype=tf.float32, name=None), TensorSpec(shape=(32,), dtype=tf.uint8, name=None))>\n",
            "<PrefetchDataset element_spec=(TensorSpec(shape=(None, 28, 28, 1), dtype=tf.float32, name=None), TensorSpec(shape=(None,), dtype=tf.uint8, name=None))>\n",
            "time: 283 µs (started: 2022-11-05 00:15:50 +05:30)\n"
          ]
        }
      ],
      "source": [
        "print(train_dataset)\n",
        "print(test_dataset)"
      ]
    },
    {
      "cell_type": "code",
      "execution_count": 26,
      "metadata": {
        "id": "dA4JfNF2sKKo",
        "trusted": true
      },
      "outputs": [
        {
          "name": "stdout",
          "output_type": "stream",
          "text": [
            "time: 478 µs (started: 2022-11-05 00:15:50 +05:30)\n"
          ]
        }
      ],
      "source": [
        "class custom_CNN(keras.layers.Layer):\n",
        "    def __init__(self, filters, kernel_size=3):\n",
        "        super().__init__()\n",
        "        self.conv = layers.Conv2D(filters, kernel_size, padding=\"same\")\n",
        "        self.bn = layers.BatchNormalization()\n",
        "\n",
        "    def call(self, input_tensor, training=False):\n",
        "        x = self.conv(input_tensor)\n",
        "        x = self.bn(x, training=training)\n",
        "        x = tf.nn.relu(x)\n",
        "        return x\n",
        "    \n",
        "    def model(self):\n",
        "        x = keras.Input()\n",
        "        return keras.Model(inputs=[x], outputs=self.call(x))\n"
      ]
    },
    {
      "cell_type": "code",
      "execution_count": 27,
      "metadata": {
        "id": "G89-X7jYdtbX"
      },
      "outputs": [
        {
          "name": "stdout",
          "output_type": "stream",
          "text": [
            "time: 284 ms (started: 2022-11-05 00:15:50 +05:30)\n"
          ]
        }
      ],
      "source": [
        "cus_model = keras.Sequential(\n",
        "    [keras.Input(shape=(28, 28, 1)),\n",
        "     custom_CNN(32), \n",
        "     custom_CNN(64), \n",
        "     custom_CNN(128), \n",
        "     layers.Flatten(), \n",
        "     layers.Dense(10),]\n",
        ")\n"
      ]
    },
    {
      "cell_type": "code",
      "execution_count": 28,
      "metadata": {
        "colab": {
          "base_uri": "https://localhost:8080/",
          "height": 963
        },
        "id": "KfcfLEBFRZyO",
        "outputId": "5f9b6b3d-318a-413e-c50d-9c4ff982406a"
      },
      "outputs": [
        {
          "name": "stdout",
          "output_type": "stream",
          "text": [
            "Model: \"sequential\"\n",
            "_________________________________________________________________\n",
            " Layer (type)                Output Shape              Param #   \n",
            "=================================================================\n",
            " custom_cnn (custom_CNN)     (None, 28, 28, 32)        448       \n",
            "                                                                 \n",
            " custom_cnn_1 (custom_CNN)   (None, 28, 28, 64)        18752     \n",
            "                                                                 \n",
            " custom_cnn_2 (custom_CNN)   (None, 28, 28, 128)       74368     \n",
            "                                                                 \n",
            " flatten (Flatten)           (None, 100352)            0         \n",
            "                                                                 \n",
            " dense_2 (Dense)             (None, 10)                1003530   \n",
            "                                                                 \n",
            "=================================================================\n",
            "Total params: 1,097,098\n",
            "Trainable params: 1,096,650\n",
            "Non-trainable params: 448\n",
            "_________________________________________________________________\n",
            "None\n"
          ]
        },
        {
          "data": {
            "image/png": "[encoded data removed]",
            "text/plain": [
              "<IPython.core.display.Image object>"
            ]
          },
          "execution_count": 28,
          "metadata": {},
          "output_type": "execute_result"
        },
        {
          "name": "stdout",
          "output_type": "stream",
          "text": [
            "time: 269 ms (started: 2022-11-05 00:15:51 +05:30)\n"
          ]
        }
      ],
      "source": [
        "print(cus_model.summary())\n",
        "\n",
        "plot_model(cus_model, to_file='cus_model.png',show_shapes=True)"
      ]
    },
    {
      "cell_type": "markdown",
      "metadata": {
        "id": "jbPo2_f7SY1p"
      },
      "source": [
        "You can pass a Dataset instance directly to the methods fit(), evaluate(), and predict():"
      ]
    },
    {
      "cell_type": "code",
      "execution_count": 29,
      "metadata": {
        "colab": {
          "base_uri": "https://localhost:8080/"
        },
        "id": "aAElqCwSQ2m7",
        "outputId": "ed2eb6dd-8d1a-4cef-f9f4-8667c61a6483"
      },
      "outputs": [
        {
          "name": "stdout",
          "output_type": "stream",
          "text": [
            "Epoch 1/5\n"
          ]
        },
        {
          "name": "stderr",
          "output_type": "stream",
          "text": [
            "2022-11-05 00:15:51.684371: I tensorflow/core/grappler/optimizers/custom_graph_optimizer_registry.cc:113] Plugin optimizer for device_type GPU is enabled.\n"
          ]
        },
        {
          "name": "stdout",
          "output_type": "stream",
          "text": [
            "1875/1875 [==============================] - 27s 13ms/step - loss: 0.4552 - accuracy: 0.9541\n",
            "Epoch 2/5\n",
            "1875/1875 [==============================] - 24s 13ms/step - loss: 0.0473 - accuracy: 0.9857\n",
            "Epoch 3/5\n",
            "1875/1875 [==============================] - 23s 12ms/step - loss: 0.0412 - accuracy: 0.9873\n",
            "Epoch 4/5\n",
            "1875/1875 [==============================] - 24s 13ms/step - loss: 0.0311 - accuracy: 0.9906\n",
            "Epoch 5/5\n",
            "1875/1875 [==============================] - 24s 13ms/step - loss: 0.0237 - accuracy: 0.9920\n",
            " 11/313 [>.............................] - ETA: 3s - loss: 0.1008 - accuracy: 0.9744"
          ]
        },
        {
          "name": "stderr",
          "output_type": "stream",
          "text": [
            "2022-11-05 00:17:52.528867: I tensorflow/core/grappler/optimizers/custom_graph_optimizer_registry.cc:113] Plugin optimizer for device_type GPU is enabled.\n"
          ]
        },
        {
          "name": "stdout",
          "output_type": "stream",
          "text": [
            "313/313 [==============================] - 4s 11ms/step - loss: 0.0696 - accuracy: 0.9809\n"
          ]
        },
        {
          "data": {
            "text/plain": [
              "[0.06960099935531616, 0.9809000492095947]"
            ]
          },
          "execution_count": 29,
          "metadata": {},
          "output_type": "execute_result"
        },
        {
          "name": "stdout",
          "output_type": "stream",
          "text": [
            "time: 2min 4s (started: 2022-11-05 00:15:51 +05:30)\n"
          ]
        }
      ],
      "source": [
        "cus_model.compile(\n",
        "    loss=keras.losses.SparseCategoricalCrossentropy(from_logits=True),\n",
        "    optimizer=keras.optimizers.Adam(),\n",
        "    metrics=[\"accuracy\"],\n",
        ")\n",
        "\n",
        "cus_model.fit(train_dataset, batch_size=32, epochs=5, verbose=1)\n",
        "cus_model.evaluate(test_dataset, batch_size=32, verbose=1)\n"
      ]
    },
    {
      "cell_type": "markdown",
      "metadata": {
        "id": "6VyX5se1sKKo"
      },
      "source": [
        "### Backward propogation\n"
      ]
    },
    {
      "cell_type": "markdown",
      "metadata": {
        "id": "zeyLs7sssKKo"
      },
      "source": [
        "#### Gradient Tape\n",
        "\n",
        "tf.GradientTape --> Record operations for automatic differentiation."
      ]
    },
    {
      "cell_type": "code",
      "execution_count": 30,
      "metadata": {
        "colab": {
          "base_uri": "https://localhost:8080/"
        },
        "id": "8gv1J-CtsKKo",
        "outputId": "281db759-80d2-43fa-f46f-5e663a436b0b",
        "trusted": true
      },
      "outputs": [
        {
          "name": "stdout",
          "output_type": "stream",
          "text": [
            "tf.Tensor(6.0, shape=(), dtype=float32)\n",
            "time: 6.96 ms (started: 2022-11-05 00:17:56 +05:30)\n"
          ]
        }
      ],
      "source": [
        "x = tf.constant(3.0)\n",
        "with tf.GradientTape() as g:\n",
        "  g.watch(x)\n",
        "  y = x * x\n",
        "dy_dx = g.gradient(y, x)\n",
        "print(dy_dx)\n"
      ]
    },
    {
      "cell_type": "markdown",
      "metadata": {
        "id": "9bssuTZPsKKp"
      },
      "source": [
        "> To differentiate automatically, TensorFlow needs to remember what operations happen in what order during the forward pass. Then, during the backward pass, TensorFlow traverses this list of operations in reverse order to compute gradients.\n",
        "\n",
        "\n",
        "* With eager execution enabled, Tensorflow will calculate the values of tensors as they occur in your code. \n",
        "* This means that it won't precompute a static graph for which inputs are fed in through placeholders. \n",
        "* This means to back propagate errors, you have to keep track of the gradients of your computation and then apply these gradients to an optimiser.\n",
        "\n",
        "* If you have a custom layer, you can define exactly how the operations occur within that layer, including the gradients that are computed and also calculating the amount of loss that is accumulated.\n",
        "\n",
        "* So Gradient tape will just give you direct access to the individual gradients that are in the layer.\n",
        "\n",
        "> Once you've recorded some operations, use GradientTape.gradient(target, sources) to calculate the gradient of some target (often a loss) relative to some source (often the model's variables)"
      ]
    },
    {
      "cell_type": "code",
      "execution_count": 31,
      "metadata": {
        "id": "sIasmFDvsKKp",
        "trusted": true
      },
      "outputs": [
        {
          "name": "stdout",
          "output_type": "stream",
          "text": [
            "time: 202 µs (started: 2022-11-05 00:17:56 +05:30)\n"
          ]
        }
      ],
      "source": [
        " def f(w1, w2):\n",
        "     return 3 * w1 ** 2 + 2 * w1 * w2"
      ]
    },
    {
      "cell_type": "code",
      "execution_count": 32,
      "metadata": {
        "id": "n_zLQHpAsKKq",
        "trusted": true
      },
      "outputs": [
        {
          "name": "stdout",
          "output_type": "stream",
          "text": [
            "time: 9.03 ms (started: 2022-11-05 00:17:56 +05:30)\n"
          ]
        }
      ],
      "source": [
        "w1, w2 = tf.Variable(5.), tf.Variable(3.)\n",
        "with tf.GradientTape() as tape:\n",
        "    z = f(w1, w2)\n",
        "\n",
        "gradients = tape.gradient(z, [w1, w2])"
      ]
    },
    {
      "cell_type": "code",
      "execution_count": 33,
      "metadata": {
        "colab": {
          "base_uri": "https://localhost:8080/"
        },
        "id": "JD_D2nOfsKKq",
        "outputId": "1fb96f01-4cf3-48a7-db00-80fe7dc7c5f1",
        "trusted": true
      },
      "outputs": [
        {
          "data": {
            "text/plain": [
              "[<tf.Tensor: shape=(), dtype=float32, numpy=35.999996>,\n",
              " <tf.Tensor: shape=(), dtype=float32, numpy=10.0>]"
            ]
          },
          "execution_count": 33,
          "metadata": {},
          "output_type": "execute_result"
        },
        {
          "name": "stdout",
          "output_type": "stream",
          "text": [
            "time: 2.7 ms (started: 2022-11-05 00:17:56 +05:30)\n"
          ]
        }
      ],
      "source": [
        "gradients"
      ]
    },
    {
      "cell_type": "code",
      "execution_count": 34,
      "metadata": {
        "id": "9DP9DAhZsUBO"
      },
      "outputs": [
        {
          "name": "stdout",
          "output_type": "stream",
          "text": [
            "time: 34.2 ms (started: 2022-11-05 00:17:56 +05:30)\n"
          ]
        }
      ],
      "source": [
        "cus_model = keras.Sequential(\n",
        "    [keras.Input(shape=(28, 28, 1)),\n",
        "     custom_CNN(32), \n",
        "     custom_CNN(64), \n",
        "     custom_CNN(128), \n",
        "     layers.Flatten(), \n",
        "     layers.Dense(10),]\n",
        ")"
      ]
    },
    {
      "cell_type": "code",
      "execution_count": 35,
      "metadata": {
        "id": "8vWI5E9XsKKq",
        "trusted": true
      },
      "outputs": [
        {
          "name": "stdout",
          "output_type": "stream",
          "text": [
            "time: 672 µs (started: 2022-11-05 00:17:56 +05:30)\n"
          ]
        }
      ],
      "source": [
        "class Custom_fit(keras.Model):\n",
        "  def __init__(self, model):\n",
        "    super().__init__()\n",
        "    self.model = model\n",
        "\n",
        "  def compile(self, optimizer, loss, metric):\n",
        "    super(Custom_fit, self).compile()\n",
        "    self.optimizer = optimizer\n",
        "    self.loss = loss\n",
        "    self.metric = metric\n",
        "\n",
        "  def train_step(self,data):\n",
        "    # Unpack the data\n",
        "    x, y = data\n",
        "    with tf.GradientTape() as tape:\n",
        "      # Compute predictions\n",
        "      y_pred = self.model(x, training=True)\n",
        "      # Calculating loss\n",
        "      loss = self.loss(y, y_pred)\n",
        "    \n",
        "    # Tracking gradients\n",
        "    training_vars = self.trainable_variables\n",
        "    gradients = tape.gradient(loss, training_vars)\n",
        "\n",
        "    #Update optimizer & metrics\n",
        "    self.optimizer.apply_gradients(zip(gradients, training_vars))\n",
        "    self.metric.update_state(y, y_pred)\n",
        "\n",
        "    return {\"Train_loss for Custom_train\": loss, \"Train_accuracy for Custom_train\": self.metric.result()}\n",
        "\n",
        "\n",
        "  def test_step(self, data):\n",
        "    # Unpack the data\n",
        "    x, y = data\n",
        "    # Compute predictions\n",
        "    y_pred = self.model(x, training=False)\n",
        "    # Calculating loss\n",
        "    loss = self.loss(y, y_pred)\n",
        "    #Update optimizer & metrics\n",
        "    self.metric.update_state(y, y_pred)\n",
        "    return {\"Test_loss for Custom_test\": loss, \"Test_accuracy for Custom_test\": self.metric.result()}\n",
        "\n"
      ]
    },
    {
      "cell_type": "code",
      "execution_count": 36,
      "metadata": {
        "colab": {
          "base_uri": "https://localhost:8080/"
        },
        "id": "aALFYtSkkj5-",
        "outputId": "9a748cdd-aaac-4b7e-cfb2-4d207635aa10"
      },
      "outputs": [
        {
          "name": "stdout",
          "output_type": "stream",
          "text": [
            "Epoch 1/5\n",
            "   1/1875 [..............................] - ETA: 10:33 - Train_loss for Custom_train: 2.9284 - Train_accuracy for Custom_train: 0.0625"
          ]
        },
        {
          "name": "stderr",
          "output_type": "stream",
          "text": [
            "2022-11-05 00:17:56.611829: I tensorflow/core/grappler/optimizers/custom_graph_optimizer_registry.cc:113] Plugin optimizer for device_type GPU is enabled.\n"
          ]
        },
        {
          "name": "stdout",
          "output_type": "stream",
          "text": [
            "1875/1875 [==============================] - 25s 13ms/step - Train_loss for Custom_train: 0.2867 - Train_accuracy for Custom_train: 0.9116\n",
            "Epoch 2/5\n",
            "1875/1875 [==============================] - 24s 13ms/step - Train_loss for Custom_train: 0.1003 - Train_accuracy for Custom_train: 0.9807\n",
            "Epoch 3/5\n",
            "1875/1875 [==============================] - 24s 13ms/step - Train_loss for Custom_train: 0.0552 - Train_accuracy for Custom_train: 0.9866\n",
            "Epoch 4/5\n",
            "1875/1875 [==============================] - 25s 13ms/step - Train_loss for Custom_train: 0.0319 - Train_accuracy for Custom_train: 0.9909\n",
            "Epoch 5/5\n",
            "1875/1875 [==============================] - 24s 13ms/step - Train_loss for Custom_train: 0.0245 - Train_accuracy for Custom_train: 0.9922\n",
            "  9/313 [..............................] - ETA: 4s - Test_loss for Custom_test: 0.0380 - Test_accuracy for Custom_test: 0.9957   "
          ]
        },
        {
          "name": "stderr",
          "output_type": "stream",
          "text": [
            "2022-11-05 00:19:59.102846: I tensorflow/core/grappler/optimizers/custom_graph_optimizer_registry.cc:113] Plugin optimizer for device_type GPU is enabled.\n"
          ]
        },
        {
          "name": "stdout",
          "output_type": "stream",
          "text": [
            "313/313 [==============================] - 4s 11ms/step - Test_loss for Custom_test: 0.0662 - Test_accuracy for Custom_test: 0.9787\n"
          ]
        },
        {
          "data": {
            "text/plain": [
              "[0.9820000529289246, 2.9695007469854318e-05]"
            ]
          },
          "execution_count": 36,
          "metadata": {},
          "output_type": "execute_result"
        },
        {
          "name": "stdout",
          "output_type": "stream",
          "text": [
            "time: 2min 6s (started: 2022-11-05 00:17:56 +05:30)\n"
          ]
        }
      ],
      "source": [
        "cus_train = Custom_fit(cus_model)\n",
        "cus_train.compile(\n",
        "    optimizer=keras.optimizers.Adam(learning_rate=3e-4),\n",
        "    loss=keras.losses.SparseCategoricalCrossentropy(from_logits=True),\n",
        "    metric = keras.metrics.SparseCategoricalAccuracy(name=\"accuracy\")\n",
        ")\n",
        "\n",
        "cus_train.fit(train_dataset,batch_size=32, epochs=5)\n",
        "cus_train.evaluate(test_dataset, batch_size=32)"
      ]
    }
  ],
  "metadata": {
    "accelerator": "GPU",
    "colab": {
      "name": "Tensorflow-classing .ipynb",
      "provenance": []
    },
    "kernelspec": {
      "display_name": "Python 3.9.12 ('base')",
      "language": "python",
      "name": "python3"
    },
    "language_info": {
      "codemirror_mode": {
        "name": "ipython",
        "version": 3
      },
      "file_extension": ".py",
      "mimetype": "text/x-python",
      "name": "python",
      "nbconvert_exporter": "python",
      "pygments_lexer": "ipython3",
      "version": "3.9.12"
    },
    "vscode": {
      "interpreter": {
        "hash": "3d597f4c481aa0f25dceb95d2a0067e73c0966dcbd003d741d821a7208527ecf"
      }
    }
  },
  "nbformat": 4,
  "nbformat_minor": 0
}
