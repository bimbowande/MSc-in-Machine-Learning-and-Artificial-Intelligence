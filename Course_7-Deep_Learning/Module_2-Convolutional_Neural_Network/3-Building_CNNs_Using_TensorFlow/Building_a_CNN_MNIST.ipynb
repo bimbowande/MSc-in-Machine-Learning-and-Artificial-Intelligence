{
  "cells": [
    {
      "cell_type": "markdown",
      "metadata": {
        "id": "mm8trGbYycyX"
      },
      "source": [
        "# Building a Basic CNN: The MNIST Dataset\n",
        "\n",
        "In this notebook, we will build a simple CNN-based architecture to classify the 10 digits (0-9) of the MNIST dataset. The objective of this notebook is to become familiar with the process of building CNNs in TensorFlow.\n",
        "\n",
        "We will go through the following steps:\n",
        "1. Importing libraries and the dataset\n",
        "2. Data preparation: Train-test split, specifying the shape of the input data etc.\n",
        "3. Building and understanding the CNN architecture \n",
        "4. Fitting and evaluating the model\n",
        "\n",
        "Let's dive in."
      ]
    },
    {
      "cell_type": "markdown",
      "metadata": {
        "id": "i4i2gfPsycya"
      },
      "source": [
        "## 1. Importing Libraries and the Dataset\n",
        "\n",
        "Let's load the required libraries. From Keras, we need to import two main components:\n",
        "1. `Sequential` from `tensrflow.keras.models`: `Sequential` is the keras abstraction for creating models with a stack of layers (MLP has multiple hidden layers, CNNs have convolutional layers, etc.). \n",
        "2. Various types of layers from `tensrflow.keras.layers`: These layers are added (one after the other) to the `Sequential` model\n"
      ]
    },
    {
      "cell_type": "code",
      "execution_count": 1,
      "metadata": {
        "id": "z6OM8KVoycye"
      },
      "outputs": [],
      "source": [
        "import numpy as np\n",
        "import matplotlib.pyplot as plt\n",
        "\n",
        "# importing the required libraries\n",
        "import tensorflow as tf\n",
        "\n",
        "# importing different elements (datasets, layers, etc.) to build the CNN model\n",
        "from tensorflow.keras import datasets, layers, models\n",
        "from tensorflow.keras.layers import Input, Dense, Flatten, Conv2D , Dropout, MaxPooling2D\n",
        "\n",
        "# Ignoring the warnings\n",
        "import warnings\n",
        "warnings.filterwarnings(\"ignore\")"
      ]
    },
    {
      "cell_type": "markdown",
      "metadata": {
        "id": "h12FfQasycyf"
      },
      "source": [
        "Let's load the MNIST dataset from `tensrflow.keras.datasets`. The download may take a few minutes."
      ]
    },
    {
      "cell_type": "code",
      "execution_count": 2,
      "metadata": {
        "id": "U-bJeejrycyf"
      },
      "outputs": [
        {
          "name": "stdout",
          "output_type": "stream",
          "text": [
            "Downloading data from https://storage.googleapis.com/tensorflow/tf-keras-datasets/mnist.npz\n",
            "11490434/11490434 [==============================] - 6s 1us/step\n"
          ]
        }
      ],
      "source": [
        "# load the dataset into train and test sets\n",
        "mnist = tf.keras.datasets.mnist\n",
        " \n",
        "(train_images,train_labels),(test_images, test_labels)=mnist.load_data()\n",
        "\n",
        "# Defining the class names\n",
        "class_names = ['0','1','2','3','4','5','6','7','8','9']"
      ]
    },
    {
      "cell_type": "code",
      "execution_count": 3,
      "metadata": {
        "colab": {
          "base_uri": "https://localhost:8080/"
        },
        "id": "DqutCozKycyg",
        "outputId": "3d5141a9-a757-451c-c972-f8da7343cd1f",
        "scrolled": false
      },
      "outputs": [
        {
          "name": "stdout",
          "output_type": "stream",
          "text": [
            "(60000, 28, 28)\n",
            "60000\n"
          ]
        }
      ],
      "source": [
        "# Explore the training data as follows:\n",
        "print(train_images.shape)\n",
        "print(len(train_labels))"
      ]
    },
    {
      "cell_type": "code",
      "execution_count": 4,
      "metadata": {
        "colab": {
          "base_uri": "https://localhost:8080/"
        },
        "id": "1hTlXPlAcuJQ",
        "outputId": "9b817dd7-64de-4cb9-9e8b-3696ae878606"
      },
      "outputs": [
        {
          "name": "stdout",
          "output_type": "stream",
          "text": [
            "(10000, 28, 28)\n",
            "10000\n"
          ]
        }
      ],
      "source": [
        "# Explore the test data as follows:\n",
        "print(test_images.shape)\n",
        "print(len(test_labels))"
      ]
    },
    {
      "cell_type": "markdown",
      "metadata": {
        "id": "2QIZTkbuycyi"
      },
      "source": [
        "So we have 60,000 training and 10,000 test images each of size 28 x 28. Note that the images are grayscale and thus are stored as 2D arrays.<br> "
      ]
    },
    {
      "cell_type": "markdown",
      "metadata": {
        "id": "hVOw5KjWdWiz"
      },
      "source": [
        "## 2. Data Preparation\n",
        "\n",
        "Let's prepare the dataset for feeding to the network. We will do the following three main steps:<br>\n",
        "\n",
        "#### 2.1 Reshape the Data\n",
        "First, let's understand the shape in which the network expects the training data. \n",
        "Since we have 20,000 training samples each of size (28, 28, 1), the training data (`train_images`) needs to be of the shape `(20000, 28, 28, 1)`. If the images were coloured, the shape would have been `(20000, 28, 28, 3)`.\n",
        "\n",
        "Same goes for the `test_images`.\n",
        "\n",
        "#### 2.2 Rescaling (Normalisation)\n",
        "The value of each pixel is between 0-255, so we will **rescale each pixel** by dividing by 255 so that the range becomes 0-1. Recollect <a href=\"https://stats.stackexchange.com/questions/185853/why-do-we-need-to-normalize-the-images-before-we-put-them-into-cnn\">why normalisation is important for training NNs</a>."
      ]
    },
    {
      "cell_type": "code",
      "execution_count": 5,
      "metadata": {
        "colab": {
          "base_uri": "https://localhost:8080/"
        },
        "id": "VukH4iXhlGWv",
        "outputId": "f2aa50fc-af24-4250-863e-39928cc892d1"
      },
      "outputs": [
        {
          "name": "stdout",
          "output_type": "stream",
          "text": [
            "(60000, 28, 28, 1)\n",
            "(10000, 28, 28, 1)\n"
          ]
        }
      ],
      "source": [
        "# reshape x_train and x_test\n",
        "train_images = train_images.reshape(train_images.shape[0], 28, 28, 1)\n",
        "test_images = test_images.reshape(test_images.shape[0], 28, 28, 1)\n",
        "print(train_images.shape)\n",
        "print(test_images.shape)"
      ]
    },
    {
      "cell_type": "code",
      "execution_count": 6,
      "metadata": {
        "id": "RN3_HqocmCuu"
      },
      "outputs": [],
      "source": [
        "# normalisation\n",
        "train_images = train_images / 255.0\n",
        "test_images = test_images / 255.0"
      ]
    },
    {
      "cell_type": "markdown",
      "metadata": {
        "id": "bnZcGhNDycyq"
      },
      "source": [
        "## 3. Building the Model"
      ]
    },
    {
      "cell_type": "markdown",
      "metadata": {
        "id": "6LcbjBCaycyq"
      },
      "source": [
        "Let's now build the CNN architecture. For the MNIST dataset, we do not need to build a very sophisticated CNN - a simple shallow-ish CNN would suffice. \n",
        "\n",
        "We will build a network with:\n",
        "- two convolutional layers having 32 and 64 filters respectively, \n",
        "- followed by a max pooling layer, \n",
        "- and then `Flatten` the output of the pooling layer to give us a long vector, \n",
        "- then add a fully connected `Dense` layer with 128 neurons, and finally\n",
        "- add a `softmax` layer with 10 neurons\n",
        "\n",
        "The generic way to build a model in Keras is to instantiate a `Sequential` model and keep adding `tensorflow.keras.layers` to it. We will also use some dropouts."
      ]
    },
    {
      "cell_type": "code",
      "execution_count": 7,
      "metadata": {
        "colab": {
          "base_uri": "https://localhost:8080/"
        },
        "id": "XX5bykTdycyr",
        "outputId": "f8ef6429-8519-42fa-b43e-e0ee3f145c73",
        "scrolled": false
      },
      "outputs": [
        {
          "name": "stdout",
          "output_type": "stream",
          "text": [
            "Metal device set to: Apple M1 Pro\n",
            "\n",
            "systemMemory: 32.00 GB\n",
            "maxCacheSize: 10.67 GB\n",
            "\n"
          ]
        },
        {
          "name": "stderr",
          "output_type": "stream",
          "text": [
            "2022-10-01 15:57:25.759371: I tensorflow/core/common_runtime/pluggable_device/pluggable_device_factory.cc:305] Could not identify NUMA node of platform GPU ID 0, defaulting to 0. Your kernel may not have been built with NUMA support.\n",
            "2022-10-01 15:57:25.759745: I tensorflow/core/common_runtime/pluggable_device/pluggable_device_factory.cc:271] Created TensorFlow device (/job:localhost/replica:0/task:0/device:GPU:0 with 0 MB memory) -> physical PluggableDevice (device: 0, name: METAL, pci bus id: <undefined>)\n"
          ]
        },
        {
          "name": "stdout",
          "output_type": "stream",
          "text": [
            "Model: \"sequential\"\n",
            "_________________________________________________________________\n",
            " Layer (type)                Output Shape              Param #   \n",
            "=================================================================\n",
            " conv2d (Conv2D)             (None, 26, 26, 32)        320       \n",
            "                                                                 \n",
            " conv2d_1 (Conv2D)           (None, 24, 24, 64)        18496     \n",
            "                                                                 \n",
            " max_pooling2d (MaxPooling2D  (None, 12, 12, 64)       0         \n",
            " )                                                               \n",
            "                                                                 \n",
            " dropout (Dropout)           (None, 12, 12, 64)        0         \n",
            "                                                                 \n",
            " flatten (Flatten)           (None, 9216)              0         \n",
            "                                                                 \n",
            " dense (Dense)               (None, 128)               1179776   \n",
            "                                                                 \n",
            " dropout_1 (Dropout)         (None, 128)               0         \n",
            "                                                                 \n",
            " dense_1 (Dense)             (None, 10)                1290      \n",
            "                                                                 \n",
            "=================================================================\n",
            "Total params: 1,199,882\n",
            "Trainable params: 1,199,882\n",
            "Non-trainable params: 0\n",
            "_________________________________________________________________\n"
          ]
        }
      ],
      "source": [
        "# model\n",
        "model = models.Sequential()\n",
        "\n",
        "# Convolution and Pooling layers\n",
        "model.add(layers.Conv2D(32, (3, 3), activation='relu', input_shape=(28, 28, 1)))\n",
        "model.add(layers.Conv2D(64, (3, 3), activation='relu'))\n",
        "model.add(layers.MaxPooling2D((2, 2)))\n",
        "model.add(Dropout(0.25))\n",
        "\n",
        "# Flattening and Dense layers\n",
        "model.add(layers.Flatten())\n",
        "model.add(layers.Dense(128, activation='relu'))\n",
        "model.add(Dropout(0.25))\n",
        "\n",
        "# Adding the output layer\n",
        "model.add(layers.Dense(10, activation='softmax'))\n",
        "\n",
        "# Model summary\n",
        "model.summary()"
      ]
    },
    {
      "cell_type": "markdown",
      "metadata": {
        "id": "ri3W44yaycyr"
      },
      "source": [
        "#### Understanding Model Summary\n",
        "\n",
        "It is a good practice to spend some time staring at the model summary above and verify the number of parameteres, output sizes etc. Let's do some calculations to verify that we understand the model deeply enough. \n",
        "\n",
        "- Layer-1 (Conv2D): We have used 32 kernels of size (3, 3), and each kernel has a single bias, so we have 32 x 3 x 3 (weights) + 32 (biases) = 320 parameters (all trainable). Note that the kernels have only one channel since the input images are 2D (grayscale). By default, a convolutional layer uses stride of 1 and no padding, so the output from this layer is of shape 26 x 26 x 32, as shown in the summary above (the first element `None` is for the batch size).\n",
        "\n",
        "- Layer-2 (Conv2D): We have used 64 kernels of size (3, 3), but this time, each kernel has to convolve a tensor of size (26, 26, 32) from the previous layer. Thus, the kernels will also have 32 channels, and so the shape of each kernel is (3, 3, 32) (and we have 64 of them). So we have 64 x 3 x 3 x 32 (weights) + 64 (biases) = 18496 parameters (all trainable). The output shape is (24, 24, 64) since each kernel produces a (24, 24) feature map.\n",
        "\n",
        "- Max pooling: The pooling layer gets the (24, 24, 64) input from the previous conv layer and produces a (12, 12, 64) output (the default pooling uses stride of 2). There are no trainable parameters in the pooling layer.\n",
        "\n",
        "- The `Dropout` layer does not alter the output shape and has no trainable parameters.\n",
        "\n",
        "- The `Flatten` layer simply takes in the (12, 12, 64) output from the previous layer and 'flattens' it into a vector of length 12 x 12 x 64 = 9216.\n",
        "\n",
        "- The `Dense` layer is a plain fully connected layer with 128 neurons. It takes the 9216-dimensional output vector from the previous layer (layer l-1) as the input and has 128 x 9216 (weights) + 128 (biases) =  1179776 trainable parameters. The output of this layer is a 128-dimensional vector.\n",
        "\n",
        "- The `Dropout` layer simply drops a few neurons.\n",
        "\n",
        "- Finally, we have a `Dense` softmax layer with 10 neurons which takes the 128-dimensional vector from the previous layer as input. It has 128 x 10 (weights) + 10 (biases) = 1290 trainable parameters.\n",
        "\n",
        "Thus, the total number of parameters are 1,199,882 all of which are trainable."
      ]
    },
    {
      "cell_type": "markdown",
      "metadata": {
        "id": "cgpuqt5Kycys"
      },
      "source": [
        "## 4. Fitting and Evaluating the Model\n",
        "\n",
        "Let's now compile and train the model."
      ]
    },
    {
      "cell_type": "code",
      "execution_count": 8,
      "metadata": {
        "colab": {
          "base_uri": "https://localhost:8080/"
        },
        "id": "lfO51K9YjlAf",
        "outputId": "7cfd410a-21b2-4117-e0d2-09e87a0ae8f6"
      },
      "outputs": [
        {
          "name": "stdout",
          "output_type": "stream",
          "text": [
            "Epoch 1/10\n"
          ]
        },
        {
          "name": "stderr",
          "output_type": "stream",
          "text": [
            "2022-10-01 15:57:26.392552: W tensorflow/core/platform/profile_utils/cpu_utils.cc:128] Failed to get CPU frequency: 0 Hz\n",
            "2022-10-01 15:57:26.684202: I tensorflow/core/grappler/optimizers/custom_graph_optimizer_registry.cc:113] Plugin optimizer for device_type GPU is enabled.\n"
          ]
        },
        {
          "name": "stdout",
          "output_type": "stream",
          "text": [
            "1875/1875 [==============================] - ETA: 0s - loss: 0.1330 - accuracy: 0.9588"
          ]
        },
        {
          "name": "stderr",
          "output_type": "stream",
          "text": [
            "2022-10-01 15:57:43.619317: I tensorflow/core/grappler/optimizers/custom_graph_optimizer_registry.cc:113] Plugin optimizer for device_type GPU is enabled.\n"
          ]
        },
        {
          "name": "stdout",
          "output_type": "stream",
          "text": [
            "1875/1875 [==============================] - 19s 8ms/step - loss: 0.1330 - accuracy: 0.9588 - val_loss: 0.0508 - val_accuracy: 0.9837\n",
            "Epoch 2/10\n",
            "1875/1875 [==============================] - 14s 7ms/step - loss: 0.0489 - accuracy: 0.9846 - val_loss: 0.0365 - val_accuracy: 0.9876\n",
            "Epoch 3/10\n",
            "1875/1875 [==============================] - 14s 7ms/step - loss: 0.0338 - accuracy: 0.9894 - val_loss: 0.0308 - val_accuracy: 0.9889\n",
            "Epoch 4/10\n",
            "1875/1875 [==============================] - 14s 7ms/step - loss: 0.0266 - accuracy: 0.9918 - val_loss: 0.0338 - val_accuracy: 0.9886\n",
            "Epoch 5/10\n",
            "1875/1875 [==============================] - 14s 7ms/step - loss: 0.0203 - accuracy: 0.9929 - val_loss: 0.0289 - val_accuracy: 0.9909\n",
            "Epoch 6/10\n",
            "1875/1875 [==============================] - 14s 7ms/step - loss: 0.0160 - accuracy: 0.9949 - val_loss: 0.0282 - val_accuracy: 0.9913\n",
            "Epoch 7/10\n",
            "1875/1875 [==============================] - 14s 8ms/step - loss: 0.0130 - accuracy: 0.9955 - val_loss: 0.0387 - val_accuracy: 0.9888\n",
            "Epoch 8/10\n",
            "1875/1875 [==============================] - 15s 8ms/step - loss: 0.0122 - accuracy: 0.9956 - val_loss: 0.0345 - val_accuracy: 0.9911\n",
            "Epoch 9/10\n",
            "1875/1875 [==============================] - 15s 8ms/step - loss: 0.0110 - accuracy: 0.9964 - val_loss: 0.0326 - val_accuracy: 0.9915\n",
            "Epoch 10/10\n",
            "1875/1875 [==============================] - 15s 8ms/step - loss: 0.0091 - accuracy: 0.9971 - val_loss: 0.0288 - val_accuracy: 0.9923\n"
          ]
        }
      ],
      "source": [
        "# Defining the model parameters\n",
        "# optimizer: adam (SGD)\n",
        "\n",
        "model.compile(optimizer='adam',\n",
        "              loss=tf.keras.losses.SparseCategoricalCrossentropy(from_logits=True),\n",
        "              metrics=['accuracy'])\n",
        "\n",
        "# Fitting the model\n",
        "history = model.fit(train_images, train_labels, epochs=10, \n",
        "                    validation_data=(test_images, test_labels))"
      ]
    },
    {
      "cell_type": "code",
      "execution_count": 9,
      "metadata": {
        "colab": {
          "base_uri": "https://localhost:8080/",
          "height": 300
        },
        "id": "2R5JqZfLfGQL",
        "outputId": "63a2c324-8ef9-4a3f-9b76-1368fed41ffb"
      },
      "outputs": [
        {
          "data": {
            "text/plain": [
              "<matplotlib.legend.Legend at 0x16c96e340>"
            ]
          },
          "execution_count": 9,
          "metadata": {},
          "output_type": "execute_result"
        },
        {
          "data": {
            "image/png": "[encoded data removed]",
            "text/plain": [
              "<Figure size 432x288 with 1 Axes>"
            ]
          },
          "metadata": {
            "needs_background": "light"
          },
          "output_type": "display_data"
        }
      ],
      "source": [
        "# Plotting accuracy over train and test data against the Epoch value\n",
        "plt.plot(history.history['accuracy'], label='accuracy')\n",
        "plt.plot(history.history['val_accuracy'], label = 'val_accuracy')\n",
        "plt.xlabel('Epoch')\n",
        "plt.ylabel('Accuracy')\n",
        "plt.ylim([0.7, 1])\n",
        "plt.legend(loc='lower right')"
      ]
    },
    {
      "cell_type": "code",
      "execution_count": 10,
      "metadata": {
        "colab": {
          "base_uri": "https://localhost:8080/"
        },
        "id": "SVlSp_Jsycyt",
        "outputId": "9ee4c056-5aa6-4787-a1c4-d63b534d3907",
        "scrolled": false
      },
      "outputs": [
        {
          "name": "stdout",
          "output_type": "stream",
          "text": [
            "313/313 - 1s - loss: 0.0288 - accuracy: 0.9923 - 1s/epoch - 4ms/step\n",
            "0.9923000335693359\n"
          ]
        }
      ],
      "source": [
        "# Evaluating the test accuracy\n",
        "test_loss, test_acc = model.evaluate(test_images,  test_labels, verbose=2)\n",
        "print(test_acc)"
      ]
    },
    {
      "cell_type": "markdown",
      "metadata": {
        "id": "DHgW5yxoycyv"
      },
      "source": [
        "The final loss (on test data) is about 0.04 and the accuracy is 99.1%."
      ]
    }
  ],
  "metadata": {
    "accelerator": "GPU",
    "colab": {
      "name": "Building+a+CNN+MNIST.ipynb",
      "provenance": []
    },
    "kernelspec": {
      "display_name": "Python 3.9.12 ('base')",
      "language": "python",
      "name": "python3"
    },
    "language_info": {
      "codemirror_mode": {
        "name": "ipython",
        "version": 3
      },
      "file_extension": ".py",
      "mimetype": "text/x-python",
      "name": "python",
      "nbconvert_exporter": "python",
      "pygments_lexer": "ipython3",
      "version": "3.9.12"
    },
    "vscode": {
      "interpreter": {
        "hash": "3d597f4c481aa0f25dceb95d2a0067e73c0966dcbd003d741d821a7208527ecf"
      }
    }
  },
  "nbformat": 4,
  "nbformat_minor": 0
}
