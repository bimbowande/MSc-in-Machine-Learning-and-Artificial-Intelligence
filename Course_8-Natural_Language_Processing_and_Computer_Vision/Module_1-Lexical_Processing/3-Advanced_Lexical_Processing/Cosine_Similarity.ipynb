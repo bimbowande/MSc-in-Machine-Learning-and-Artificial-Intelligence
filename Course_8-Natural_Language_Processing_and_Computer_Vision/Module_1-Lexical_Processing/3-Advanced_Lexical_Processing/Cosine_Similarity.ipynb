{
  "cells": [
    {
      "cell_type": "code",
      "execution_count": 1,
      "metadata": {
        "colab": {
          "base_uri": "https://localhost:8080/"
        },
        "id": "zu4EI-KKpNdd",
        "outputId": "f4ff436c-b096-45e9-fd59-47f225ce6c0a"
      },
      "outputs": [
        {
          "name": "stderr",
          "output_type": "stream",
          "text": [
            "[nltk_data] Downloading package stopwords to /Users/druk/nltk_data...\n",
            "[nltk_data]   Package stopwords is already up-to-date!\n",
            "[nltk_data] Downloading package punkt to /Users/druk/nltk_data...\n",
            "[nltk_data]   Package punkt is already up-to-date!\n"
          ]
        }
      ],
      "source": [
        "#Importing Libraries\n",
        "import numpy as np\n",
        "import pandas as pd\n",
        "\n",
        "import nltk\n",
        "nltk.download('stopwords')\n",
        "nltk.download('punkt')\n",
        "from nltk import word_tokenize\n",
        "from nltk.corpus import stopwords\n",
        "\n",
        "from sklearn.metrics.pairwise import cosine_similarity\n",
        "from sklearn.feature_extraction.text import TfidfVectorizer"
      ]
    },
    {
      "cell_type": "markdown",
      "metadata": {
        "id": "Eo8sSK7ho8o2"
      },
      "source": [
        "#### Creating a corpus of sentences."
      ]
    },
    {
      "cell_type": "code",
      "execution_count": 2,
      "metadata": {
        "id": "Rm54JYsvC4QU"
      },
      "outputs": [],
      "source": [
        "corpus = ['The sun is the largest celestial body in the solar system', \n",
        "          'The solar system consists of the sun and eight revolving planets', \n",
        "          'Ra was the Egyptian Sun God', \n",
        "          'The Pyramids were the pinnacle of Egyptian architecture', \n",
        "          'The quick brown fox jumps over the lazy dog']"
      ]
    },
    {
      "cell_type": "markdown",
      "metadata": {
        "id": "2m6gD2z0pDW8"
      },
      "source": [
        "#### Removing the stopwords."
      ]
    },
    {
      "cell_type": "code",
      "execution_count": 3,
      "metadata": {
        "id": "s6_Q1yVzpH59"
      },
      "outputs": [],
      "source": [
        "stop = set(stopwords.words('english'))\n",
        "for index, sentence in enumerate(corpus):\n",
        "  corpus[index] = ' '.join([i for i in word_tokenize(sentence.lower()) if i not in stop])"
      ]
    },
    {
      "cell_type": "code",
      "execution_count": 4,
      "metadata": {
        "colab": {
          "base_uri": "https://localhost:8080/"
        },
        "id": "BApwfvAApIPb",
        "outputId": "037c329a-126e-41ec-84ee-a5c4a7953a1a"
      },
      "outputs": [
        {
          "data": {
            "text/plain": [
              "['sun largest celestial body solar system',\n",
              " 'solar system consists sun eight revolving planets',\n",
              " 'ra egyptian sun god',\n",
              " 'pyramids pinnacle egyptian architecture',\n",
              " 'quick brown fox jumps lazy dog']"
            ]
          },
          "execution_count": 4,
          "metadata": {},
          "output_type": "execute_result"
        }
      ],
      "source": [
        "corpus"
      ]
    },
    {
      "cell_type": "markdown",
      "metadata": {
        "id": "LYZE-Gn1pIfx"
      },
      "source": [
        "#### Creating the TF-IDF matrix"
      ]
    },
    {
      "cell_type": "code",
      "execution_count": 5,
      "metadata": {
        "id": "Zto-Mb3MCtU3"
      },
      "outputs": [],
      "source": [
        "# Initialize an instance of tf-idf Vectorizer\n",
        "tfidf_vectorizer = TfidfVectorizer()\n",
        "\n",
        "# Generate the tf-idf vectors for the corpus\n",
        "tfidf_matrix = tfidf_vectorizer.fit_transform(corpus)"
      ]
    },
    {
      "cell_type": "markdown",
      "metadata": {
        "id": "Zshq9SVVpXzP"
      },
      "source": [
        "#### Print the TF-IDF matrix"
      ]
    },
    {
      "cell_type": "code",
      "execution_count": 6,
      "metadata": {
        "colab": {
          "base_uri": "https://localhost:8080/"
        },
        "id": "8WK94ScTp0JX",
        "outputId": "d68aee91-9d53-4bb8-a615-6eaddf5afea3"
      },
      "outputs": [
        {
          "name": "stdout",
          "output_type": "stream",
          "text": [
            "   architecture      body     brown  celestial  consists       dog  egyptian  \\\n",
            "0      0.000000  0.458815  0.000000   0.458815  0.000000  0.000000  0.000000   \n",
            "1      0.000000  0.000000  0.000000   0.000000  0.417016  0.000000  0.000000   \n",
            "2      0.000000  0.000000  0.000000   0.000000  0.000000  0.000000  0.458270   \n",
            "3      0.523358  0.000000  0.000000   0.000000  0.000000  0.000000  0.422242   \n",
            "4      0.000000  0.000000  0.408248   0.000000  0.000000  0.408248  0.000000   \n",
            "\n",
            "      eight       fox       god  ...      lazy  pinnacle   planets  pyramids  \\\n",
            "0  0.000000  0.000000  0.000000  ...  0.000000  0.000000  0.000000  0.000000   \n",
            "1  0.417016  0.000000  0.000000  ...  0.000000  0.000000  0.417016  0.000000   \n",
            "2  0.000000  0.000000  0.568014  ...  0.000000  0.000000  0.000000  0.000000   \n",
            "3  0.000000  0.000000  0.000000  ...  0.000000  0.523358  0.000000  0.523358   \n",
            "4  0.000000  0.408248  0.000000  ...  0.408248  0.000000  0.000000  0.000000   \n",
            "\n",
            "      quick        ra  revolving     solar       sun    system  \n",
            "0  0.000000  0.000000   0.000000  0.370169  0.307274  0.370169  \n",
            "1  0.000000  0.000000   0.417016  0.336446  0.279281  0.336446  \n",
            "2  0.000000  0.568014   0.000000  0.000000  0.380406  0.000000  \n",
            "3  0.000000  0.000000   0.000000  0.000000  0.000000  0.000000  \n",
            "4  0.408248  0.000000   0.000000  0.000000  0.000000  0.000000  \n",
            "\n",
            "[5 rows x 22 columns]\n"
          ]
        },
        {
          "name": "stderr",
          "output_type": "stream",
          "text": [
            "/opt/miniconda3/lib/python3.9/site-packages/sklearn/utils/deprecation.py:87: FutureWarning: Function get_feature_names is deprecated; get_feature_names is deprecated in 1.0 and will be removed in 1.2. Please use get_feature_names_out instead.\n",
            "  warnings.warn(msg, category=FutureWarning)\n"
          ]
        }
      ],
      "source": [
        "df = pd.DataFrame(tfidf_matrix.toarray(), columns = tfidf_vectorizer.get_feature_names())\n",
        "print(df)"
      ]
    },
    {
      "cell_type": "markdown",
      "metadata": {
        "id": "QfuQID_cpc0R"
      },
      "source": [
        "#### Compute the Cosine Similarity scores."
      ]
    },
    {
      "cell_type": "code",
      "execution_count": 7,
      "metadata": {
        "colab": {
          "base_uri": "https://localhost:8080/"
        },
        "id": "IaBDRsRVC1n-",
        "outputId": "1e822fc8-1b69-4544-d205-407c50da52c8"
      },
      "outputs": [
        {
          "name": "stdout",
          "output_type": "stream",
          "text": [
            "[[1.         0.33489933 0.11688861 0.         0.        ]\n",
            " [0.33489933 1.         0.10623994 0.         0.        ]\n",
            " [0.11688861 0.10623994 1.         0.19350098 0.        ]\n",
            " [0.         0.         0.19350098 1.         0.        ]\n",
            " [0.         0.         0.         0.         1.        ]]\n"
          ]
        }
      ],
      "source": [
        "# compute and print the cosine similarity matrix\n",
        "cosine_sim = cosine_similarity(tfidf_matrix, tfidf_matrix)\n",
        "print(cosine_sim)"
      ]
    }
  ],
  "metadata": {
    "colab": {
      "collapsed_sections": [],
      "name": "Cosine Similarity.ipynb",
      "provenance": []
    },
    "kernelspec": {
      "display_name": "Python 3.9.12 ('base')",
      "language": "python",
      "name": "python3"
    },
    "language_info": {
      "codemirror_mode": {
        "name": "ipython",
        "version": 3
      },
      "file_extension": ".py",
      "mimetype": "text/x-python",
      "name": "python",
      "nbconvert_exporter": "python",
      "pygments_lexer": "ipython3",
      "version": "3.9.12"
    },
    "vscode": {
      "interpreter": {
        "hash": "3d597f4c481aa0f25dceb95d2a0067e73c0966dcbd003d741d821a7208527ecf"
      }
    }
  },
  "nbformat": 4,
  "nbformat_minor": 0
}
